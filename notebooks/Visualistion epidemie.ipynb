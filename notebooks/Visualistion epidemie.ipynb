{
 "cells": [
  {
   "cell_type": "code",
   "execution_count": 1,
   "metadata": {},
   "outputs": [],
   "source": [
    "import pandas as pd\n",
    "import os"
   ]
  },
  {
   "cell_type": "code",
   "execution_count": 2,
   "metadata": {},
   "outputs": [],
   "source": [
    "#Répertoire du fichier des données\n",
    "PROCESSED_DIR = '../data/processed/'\n",
    "\n",
    "#Table principale\n",
    "ALL_DATA_FILE = 'all_data.csv'"
   ]
  },
  {
   "cell_type": "code",
   "execution_count": 3,
   "metadata": {},
   "outputs": [],
   "source": [
    "epidemie_df = (pd.read_csv(os.path.join(PROCESSED_DIR, ALL_DATA_FILE), parse_dates=['Last Update']).assign(day=lambda _df:_df['Last Update'].dt.date))"
   ]
  },
  {
   "cell_type": "code",
   "execution_count": 4,
   "metadata": {},
   "outputs": [],
   "source": [
    "epidemie_df = (pd.read_csv(os.path.join(PROCESSED_DIR, ALL_DATA_FILE), parse_dates=['Last Update'])\n",
    "               .assign(day=lambda _df: _df['Last Update'].dt.date))"
   ]
  },
  {
   "cell_type": "code",
   "execution_count": 5,
   "metadata": {},
   "outputs": [
    {
     "data": {
      "text/html": [
       "<div>\n",
       "<style scoped>\n",
       "    .dataframe tbody tr th:only-of-type {\n",
       "        vertical-align: middle;\n",
       "    }\n",
       "\n",
       "    .dataframe tbody tr th {\n",
       "        vertical-align: top;\n",
       "    }\n",
       "\n",
       "    .dataframe thead th {\n",
       "        text-align: right;\n",
       "    }\n",
       "</style>\n",
       "<table border=\"1\" class=\"dataframe\">\n",
       "  <thead>\n",
       "    <tr style=\"text-align: right;\">\n",
       "      <th></th>\n",
       "      <th>Province/State</th>\n",
       "      <th>Country/Region</th>\n",
       "      <th>Last Update</th>\n",
       "      <th>Confirmed</th>\n",
       "      <th>Deaths</th>\n",
       "      <th>Recovered</th>\n",
       "      <th>Latitude</th>\n",
       "      <th>Longitude</th>\n",
       "      <th>source</th>\n",
       "      <th>day</th>\n",
       "    </tr>\n",
       "  </thead>\n",
       "  <tbody>\n",
       "    <tr>\n",
       "      <th>0</th>\n",
       "      <td>Hubei</td>\n",
       "      <td>Mainland China</td>\n",
       "      <td>2020-02-26 14:13:10</td>\n",
       "      <td>65187.0</td>\n",
       "      <td>2615.0</td>\n",
       "      <td>20969.0</td>\n",
       "      <td>30.9756</td>\n",
       "      <td>112.2707</td>\n",
       "      <td>02-26-2020.csv</td>\n",
       "      <td>2020-02-26</td>\n",
       "    </tr>\n",
       "    <tr>\n",
       "      <th>1</th>\n",
       "      <td>Guangdong</td>\n",
       "      <td>Mainland China</td>\n",
       "      <td>2020-02-26 10:33:02</td>\n",
       "      <td>1347.0</td>\n",
       "      <td>7.0</td>\n",
       "      <td>851.0</td>\n",
       "      <td>23.3417</td>\n",
       "      <td>113.4244</td>\n",
       "      <td>02-26-2020.csv</td>\n",
       "      <td>2020-02-26</td>\n",
       "    </tr>\n",
       "    <tr>\n",
       "      <th>2</th>\n",
       "      <td>Henan</td>\n",
       "      <td>Mainland China</td>\n",
       "      <td>2020-02-26 10:33:02</td>\n",
       "      <td>1271.0</td>\n",
       "      <td>19.0</td>\n",
       "      <td>1033.0</td>\n",
       "      <td>33.8820</td>\n",
       "      <td>113.6140</td>\n",
       "      <td>02-26-2020.csv</td>\n",
       "      <td>2020-02-26</td>\n",
       "    </tr>\n",
       "    <tr>\n",
       "      <th>3</th>\n",
       "      <td>NaN</td>\n",
       "      <td>South Korea</td>\n",
       "      <td>2020-02-26 11:03:11</td>\n",
       "      <td>1261.0</td>\n",
       "      <td>12.0</td>\n",
       "      <td>22.0</td>\n",
       "      <td>36.0000</td>\n",
       "      <td>128.0000</td>\n",
       "      <td>02-26-2020.csv</td>\n",
       "      <td>2020-02-26</td>\n",
       "    </tr>\n",
       "    <tr>\n",
       "      <th>4</th>\n",
       "      <td>Zhejiang</td>\n",
       "      <td>Mainland China</td>\n",
       "      <td>2020-02-26 10:33:02</td>\n",
       "      <td>1205.0</td>\n",
       "      <td>1.0</td>\n",
       "      <td>867.0</td>\n",
       "      <td>29.1832</td>\n",
       "      <td>120.0934</td>\n",
       "      <td>02-26-2020.csv</td>\n",
       "      <td>2020-02-26</td>\n",
       "    </tr>\n",
       "  </tbody>\n",
       "</table>\n",
       "</div>"
      ],
      "text/plain": [
       "  Province/State  Country/Region         Last Update  Confirmed  Deaths  \\\n",
       "0          Hubei  Mainland China 2020-02-26 14:13:10    65187.0  2615.0   \n",
       "1      Guangdong  Mainland China 2020-02-26 10:33:02     1347.0     7.0   \n",
       "2          Henan  Mainland China 2020-02-26 10:33:02     1271.0    19.0   \n",
       "3            NaN     South Korea 2020-02-26 11:03:11     1261.0    12.0   \n",
       "4       Zhejiang  Mainland China 2020-02-26 10:33:02     1205.0     1.0   \n",
       "\n",
       "   Recovered  Latitude  Longitude          source         day  \n",
       "0    20969.0   30.9756   112.2707  02-26-2020.csv  2020-02-26  \n",
       "1      851.0   23.3417   113.4244  02-26-2020.csv  2020-02-26  \n",
       "2     1033.0   33.8820   113.6140  02-26-2020.csv  2020-02-26  \n",
       "3       22.0   36.0000   128.0000  02-26-2020.csv  2020-02-26  \n",
       "4      867.0   29.1832   120.0934  02-26-2020.csv  2020-02-26  "
      ]
     },
     "execution_count": 5,
     "metadata": {},
     "output_type": "execute_result"
    }
   ],
   "source": [
    "epidemie_df.head()"
   ]
  },
  {
   "cell_type": "code",
   "execution_count": 6,
   "metadata": {},
   "outputs": [
    {
     "data": {
      "text/plain": [
       "Province/State            object\n",
       "Country/Region            object\n",
       "Last Update       datetime64[ns]\n",
       "Confirmed                float64\n",
       "Deaths                   float64\n",
       "Recovered                float64\n",
       "Latitude                 float64\n",
       "Longitude                float64\n",
       "source                    object\n",
       "day                       object\n",
       "dtype: object"
      ]
     },
     "execution_count": 6,
     "metadata": {},
     "output_type": "execute_result"
    }
   ],
   "source": [
    "epidemie_df.dtypes"
   ]
  },
  {
   "cell_type": "code",
   "execution_count": 7,
   "metadata": {},
   "outputs": [
    {
     "data": {
      "text/plain": [
       "Mainland China         1517\n",
       "US                     1503\n",
       "China                   330\n",
       "Australia               305\n",
       "Canada                  230\n",
       "                       ... \n",
       "North Ireland             1\n",
       "Republic of Moldova       1\n",
       "Ivory Coast               1\n",
       "Cabo Verde                1\n",
       "Haiti                     1\n",
       "Name: Country/Region, Length: 206, dtype: int64"
      ]
     },
     "execution_count": 7,
     "metadata": {},
     "output_type": "execute_result"
    }
   ],
   "source": [
    "epidemie_df['Country/Region'].value_counts()"
   ]
  },
  {
   "cell_type": "markdown",
   "metadata": {},
   "source": [
    "# Epidémie en France"
   ]
  },
  {
   "cell_type": "code",
   "execution_count": 8,
   "metadata": {},
   "outputs": [],
   "source": [
    "import seaborn as sns\n",
    "\n",
    "sns.set() #afficher les graphiques avec le look de Seaborn"
   ]
  },
  {
   "cell_type": "code",
   "execution_count": 9,
   "metadata": {},
   "outputs": [],
   "source": [
    "%matplotlib inline"
   ]
  },
  {
   "cell_type": "code",
   "execution_count": 10,
   "metadata": {},
   "outputs": [
    {
     "data": {
      "text/html": [
       "<div>\n",
       "<style scoped>\n",
       "    .dataframe tbody tr th:only-of-type {\n",
       "        vertical-align: middle;\n",
       "    }\n",
       "\n",
       "    .dataframe tbody tr th {\n",
       "        vertical-align: top;\n",
       "    }\n",
       "\n",
       "    .dataframe thead th {\n",
       "        text-align: right;\n",
       "    }\n",
       "</style>\n",
       "<table border=\"1\" class=\"dataframe\">\n",
       "  <thead>\n",
       "    <tr style=\"text-align: right;\">\n",
       "      <th></th>\n",
       "      <th>Province/State</th>\n",
       "      <th>Country/Region</th>\n",
       "      <th>Last Update</th>\n",
       "      <th>Confirmed</th>\n",
       "      <th>Deaths</th>\n",
       "      <th>Recovered</th>\n",
       "      <th>Latitude</th>\n",
       "      <th>Longitude</th>\n",
       "      <th>source</th>\n",
       "      <th>day</th>\n",
       "    </tr>\n",
       "  </thead>\n",
       "  <tbody>\n",
       "    <tr>\n",
       "      <th>6139</th>\n",
       "      <td>France</td>\n",
       "      <td>France</td>\n",
       "      <td>2020-03-20 22:43:03</td>\n",
       "      <td>12612.0</td>\n",
       "      <td>450.0</td>\n",
       "      <td>12.0</td>\n",
       "      <td>46.2276</td>\n",
       "      <td>2.2137</td>\n",
       "      <td>03-20-2020.csv</td>\n",
       "      <td>2020-03-20</td>\n",
       "    </tr>\n",
       "    <tr>\n",
       "      <th>4313</th>\n",
       "      <td>France</td>\n",
       "      <td>France</td>\n",
       "      <td>2020-03-19 20:43:02</td>\n",
       "      <td>10871.0</td>\n",
       "      <td>243.0</td>\n",
       "      <td>12.0</td>\n",
       "      <td>46.2276</td>\n",
       "      <td>2.2137</td>\n",
       "      <td>03-19-2020.csv</td>\n",
       "      <td>2020-03-19</td>\n",
       "    </tr>\n",
       "    <tr>\n",
       "      <th>4605</th>\n",
       "      <td>France</td>\n",
       "      <td>France</td>\n",
       "      <td>2020-03-18 18:33:02</td>\n",
       "      <td>9043.0</td>\n",
       "      <td>148.0</td>\n",
       "      <td>12.0</td>\n",
       "      <td>46.2276</td>\n",
       "      <td>2.2137</td>\n",
       "      <td>03-18-2020.csv</td>\n",
       "      <td>2020-03-18</td>\n",
       "    </tr>\n",
       "    <tr>\n",
       "      <th>2181</th>\n",
       "      <td>France</td>\n",
       "      <td>France</td>\n",
       "      <td>2020-03-17 19:13:08</td>\n",
       "      <td>7652.0</td>\n",
       "      <td>148.0</td>\n",
       "      <td>12.0</td>\n",
       "      <td>46.2276</td>\n",
       "      <td>2.2137</td>\n",
       "      <td>03-17-2020.csv</td>\n",
       "      <td>2020-03-17</td>\n",
       "    </tr>\n",
       "    <tr>\n",
       "      <th>2457</th>\n",
       "      <td>France</td>\n",
       "      <td>France</td>\n",
       "      <td>2020-03-16 20:13:11</td>\n",
       "      <td>6633.0</td>\n",
       "      <td>148.0</td>\n",
       "      <td>12.0</td>\n",
       "      <td>46.2276</td>\n",
       "      <td>2.2137</td>\n",
       "      <td>03-16-2020.csv</td>\n",
       "      <td>2020-03-16</td>\n",
       "    </tr>\n",
       "    <tr>\n",
       "      <th>5478</th>\n",
       "      <td>France</td>\n",
       "      <td>France</td>\n",
       "      <td>2020-03-15 18:20:18</td>\n",
       "      <td>4499.0</td>\n",
       "      <td>91.0</td>\n",
       "      <td>12.0</td>\n",
       "      <td>46.2276</td>\n",
       "      <td>2.2137</td>\n",
       "      <td>03-15-2020.csv</td>\n",
       "      <td>2020-03-15</td>\n",
       "    </tr>\n",
       "    <tr>\n",
       "      <th>5229</th>\n",
       "      <td>France</td>\n",
       "      <td>France</td>\n",
       "      <td>2020-03-14 20:13:16</td>\n",
       "      <td>4469.0</td>\n",
       "      <td>91.0</td>\n",
       "      <td>12.0</td>\n",
       "      <td>46.2276</td>\n",
       "      <td>2.2137</td>\n",
       "      <td>03-14-2020.csv</td>\n",
       "      <td>2020-03-14</td>\n",
       "    </tr>\n",
       "    <tr>\n",
       "      <th>567</th>\n",
       "      <td>France</td>\n",
       "      <td>France</td>\n",
       "      <td>2020-03-11 22:53:03</td>\n",
       "      <td>2281.0</td>\n",
       "      <td>48.0</td>\n",
       "      <td>12.0</td>\n",
       "      <td>46.2276</td>\n",
       "      <td>2.2137</td>\n",
       "      <td>03-11-2020.csv</td>\n",
       "      <td>2020-03-11</td>\n",
       "    </tr>\n",
       "    <tr>\n",
       "      <th>3526</th>\n",
       "      <td>France</td>\n",
       "      <td>France</td>\n",
       "      <td>2020-03-11 20:00:00</td>\n",
       "      <td>3661.0</td>\n",
       "      <td>79.0</td>\n",
       "      <td>12.0</td>\n",
       "      <td>46.2276</td>\n",
       "      <td>2.2137</td>\n",
       "      <td>03-13-2020.csv</td>\n",
       "      <td>2020-03-11</td>\n",
       "    </tr>\n",
       "    <tr>\n",
       "      <th>3681</th>\n",
       "      <td>France</td>\n",
       "      <td>France</td>\n",
       "      <td>2020-03-11 22:53:03</td>\n",
       "      <td>2281.0</td>\n",
       "      <td>48.0</td>\n",
       "      <td>12.0</td>\n",
       "      <td>46.2276</td>\n",
       "      <td>2.2137</td>\n",
       "      <td>03-12-2020.csv</td>\n",
       "      <td>2020-03-11</td>\n",
       "    </tr>\n",
       "  </tbody>\n",
       "</table>\n",
       "</div>"
      ],
      "text/plain": [
       "     Province/State Country/Region         Last Update  Confirmed  Deaths  \\\n",
       "6139         France         France 2020-03-20 22:43:03    12612.0   450.0   \n",
       "4313         France         France 2020-03-19 20:43:02    10871.0   243.0   \n",
       "4605         France         France 2020-03-18 18:33:02     9043.0   148.0   \n",
       "2181         France         France 2020-03-17 19:13:08     7652.0   148.0   \n",
       "2457         France         France 2020-03-16 20:13:11     6633.0   148.0   \n",
       "5478         France         France 2020-03-15 18:20:18     4499.0    91.0   \n",
       "5229         France         France 2020-03-14 20:13:16     4469.0    91.0   \n",
       "567          France         France 2020-03-11 22:53:03     2281.0    48.0   \n",
       "3526         France         France 2020-03-11 20:00:00     3661.0    79.0   \n",
       "3681         France         France 2020-03-11 22:53:03     2281.0    48.0   \n",
       "\n",
       "      Recovered  Latitude  Longitude          source         day  \n",
       "6139       12.0   46.2276     2.2137  03-20-2020.csv  2020-03-20  \n",
       "4313       12.0   46.2276     2.2137  03-19-2020.csv  2020-03-19  \n",
       "4605       12.0   46.2276     2.2137  03-18-2020.csv  2020-03-18  \n",
       "2181       12.0   46.2276     2.2137  03-17-2020.csv  2020-03-17  \n",
       "2457       12.0   46.2276     2.2137  03-16-2020.csv  2020-03-16  \n",
       "5478       12.0   46.2276     2.2137  03-15-2020.csv  2020-03-15  \n",
       "5229       12.0   46.2276     2.2137  03-14-2020.csv  2020-03-14  \n",
       "567        12.0   46.2276     2.2137  03-11-2020.csv  2020-03-11  \n",
       "3526       12.0   46.2276     2.2137  03-13-2020.csv  2020-03-11  \n",
       "3681       12.0   46.2276     2.2137  03-12-2020.csv  2020-03-11  "
      ]
     },
     "execution_count": 10,
     "metadata": {},
     "output_type": "execute_result"
    }
   ],
   "source": [
    "epidemie_df[(epidemie_df['Country/Region'] == 'France') & (epidemie_df['Province/State'] == 'France')].sort_values('day', ascending=False)"
   ]
  },
  {
   "cell_type": "code",
   "execution_count": 11,
   "metadata": {},
   "outputs": [
    {
     "data": {
      "image/png": "[encoded data removed]",
      "text/plain": [
       "<Figure size 720x360 with 1 Axes>"
      ]
     },
     "metadata": {
      "needs_background": "light"
     },
     "output_type": "display_data"
    }
   ],
   "source": [
    "epidemie_df[epidemie_df['Country/Region'] == 'France'].set_index('Last Update')['Confirmed'].plot(figsize=(10,5));"
   ]
  },
  {
   "cell_type": "code",
   "execution_count": 12,
   "metadata": {
    "scrolled": true
   },
   "outputs": [
    {
     "data": {
      "text/html": [
       "<div>\n",
       "<style scoped>\n",
       "    .dataframe tbody tr th:only-of-type {\n",
       "        vertical-align: middle;\n",
       "    }\n",
       "\n",
       "    .dataframe tbody tr th {\n",
       "        vertical-align: top;\n",
       "    }\n",
       "\n",
       "    .dataframe thead th {\n",
       "        text-align: right;\n",
       "    }\n",
       "</style>\n",
       "<table border=\"1\" class=\"dataframe\">\n",
       "  <thead>\n",
       "    <tr style=\"text-align: right;\">\n",
       "      <th></th>\n",
       "      <th>Province/State</th>\n",
       "      <th>Country/Region</th>\n",
       "      <th>Last Update</th>\n",
       "      <th>Confirmed</th>\n",
       "      <th>Deaths</th>\n",
       "      <th>Recovered</th>\n",
       "      <th>Latitude</th>\n",
       "      <th>Longitude</th>\n",
       "      <th>source</th>\n",
       "      <th>day</th>\n",
       "    </tr>\n",
       "  </thead>\n",
       "  <tbody>\n",
       "    <tr>\n",
       "      <th>40</th>\n",
       "      <td>NaN</td>\n",
       "      <td>Germany</td>\n",
       "      <td>2020-02-26 23:43:03</td>\n",
       "      <td>27.0</td>\n",
       "      <td>0.0</td>\n",
       "      <td>15.0</td>\n",
       "      <td>51.0000</td>\n",
       "      <td>9.0000</td>\n",
       "      <td>02-26-2020.csv</td>\n",
       "      <td>2020-02-26</td>\n",
       "    </tr>\n",
       "    <tr>\n",
       "      <th>137</th>\n",
       "      <td>NaN</td>\n",
       "      <td>Germany</td>\n",
       "      <td>2020-02-27 23:13:04</td>\n",
       "      <td>46.0</td>\n",
       "      <td>0.0</td>\n",
       "      <td>16.0</td>\n",
       "      <td>51.0000</td>\n",
       "      <td>9.0000</td>\n",
       "      <td>02-27-2020.csv</td>\n",
       "      <td>2020-02-27</td>\n",
       "    </tr>\n",
       "    <tr>\n",
       "      <th>244</th>\n",
       "      <td>NaN</td>\n",
       "      <td>Germany</td>\n",
       "      <td>2020-02-18 17:03:03</td>\n",
       "      <td>16.0</td>\n",
       "      <td>0.0</td>\n",
       "      <td>12.0</td>\n",
       "      <td>51.0000</td>\n",
       "      <td>9.0000</td>\n",
       "      <td>02-18-2020.csv</td>\n",
       "      <td>2020-02-18</td>\n",
       "    </tr>\n",
       "    <tr>\n",
       "      <th>319</th>\n",
       "      <td>NaN</td>\n",
       "      <td>Germany</td>\n",
       "      <td>2020-02-18 17:03:03</td>\n",
       "      <td>16.0</td>\n",
       "      <td>0.0</td>\n",
       "      <td>12.0</td>\n",
       "      <td>51.0000</td>\n",
       "      <td>9.0000</td>\n",
       "      <td>02-19-2020.csv</td>\n",
       "      <td>2020-02-18</td>\n",
       "    </tr>\n",
       "    <tr>\n",
       "      <th>363</th>\n",
       "      <td>NaN</td>\n",
       "      <td>Germany</td>\n",
       "      <td>2020-03-10 18:53:02</td>\n",
       "      <td>1457.0</td>\n",
       "      <td>2.0</td>\n",
       "      <td>18.0</td>\n",
       "      <td>51.0000</td>\n",
       "      <td>9.0000</td>\n",
       "      <td>03-10-2020.csv</td>\n",
       "      <td>2020-03-10</td>\n",
       "    </tr>\n",
       "    <tr>\n",
       "      <th>569</th>\n",
       "      <td>NaN</td>\n",
       "      <td>Germany</td>\n",
       "      <td>2020-03-11 19:13:17</td>\n",
       "      <td>1908.0</td>\n",
       "      <td>3.0</td>\n",
       "      <td>25.0</td>\n",
       "      <td>51.0000</td>\n",
       "      <td>9.0000</td>\n",
       "      <td>03-11-2020.csv</td>\n",
       "      <td>2020-03-11</td>\n",
       "    </tr>\n",
       "    <tr>\n",
       "      <th>817</th>\n",
       "      <td>NaN</td>\n",
       "      <td>Germany</td>\n",
       "      <td>2020-02-11 19:33:03</td>\n",
       "      <td>16.0</td>\n",
       "      <td>0.0</td>\n",
       "      <td>0.0</td>\n",
       "      <td>51.0000</td>\n",
       "      <td>9.0000</td>\n",
       "      <td>02-12-2020.csv</td>\n",
       "      <td>2020-02-11</td>\n",
       "    </tr>\n",
       "    <tr>\n",
       "      <th>890</th>\n",
       "      <td>NaN</td>\n",
       "      <td>Germany</td>\n",
       "      <td>2020-02-13 15:13:11</td>\n",
       "      <td>16.0</td>\n",
       "      <td>0.0</td>\n",
       "      <td>1.0</td>\n",
       "      <td>51.0000</td>\n",
       "      <td>9.0000</td>\n",
       "      <td>02-13-2020.csv</td>\n",
       "      <td>2020-02-13</td>\n",
       "    </tr>\n",
       "    <tr>\n",
       "      <th>937</th>\n",
       "      <td>NaN</td>\n",
       "      <td>Germany</td>\n",
       "      <td>2020-03-07 17:43:05</td>\n",
       "      <td>799.0</td>\n",
       "      <td>0.0</td>\n",
       "      <td>18.0</td>\n",
       "      <td>51.0000</td>\n",
       "      <td>9.0000</td>\n",
       "      <td>03-07-2020.csv</td>\n",
       "      <td>2020-03-07</td>\n",
       "    </tr>\n",
       "    <tr>\n",
       "      <th>1163</th>\n",
       "      <td>NaN</td>\n",
       "      <td>Germany</td>\n",
       "      <td>2020-03-06 17:53:03</td>\n",
       "      <td>670.0</td>\n",
       "      <td>0.0</td>\n",
       "      <td>17.0</td>\n",
       "      <td>51.0000</td>\n",
       "      <td>9.0000</td>\n",
       "      <td>03-06-2020.csv</td>\n",
       "      <td>2020-03-06</td>\n",
       "    </tr>\n",
       "    <tr>\n",
       "      <th>1385</th>\n",
       "      <td>NaN</td>\n",
       "      <td>Germany</td>\n",
       "      <td>2020-02-03 20:53:02</td>\n",
       "      <td>12.0</td>\n",
       "      <td>0.0</td>\n",
       "      <td>0.0</td>\n",
       "      <td>51.0000</td>\n",
       "      <td>9.0000</td>\n",
       "      <td>02-05-2020.csv</td>\n",
       "      <td>2020-02-03</td>\n",
       "    </tr>\n",
       "    <tr>\n",
       "      <th>1456</th>\n",
       "      <td>NaN</td>\n",
       "      <td>Germany</td>\n",
       "      <td>2020-02-03 20:53:02</td>\n",
       "      <td>12.0</td>\n",
       "      <td>0.0</td>\n",
       "      <td>0.0</td>\n",
       "      <td>51.0000</td>\n",
       "      <td>9.0000</td>\n",
       "      <td>02-04-2020.csv</td>\n",
       "      <td>2020-02-03</td>\n",
       "    </tr>\n",
       "    <tr>\n",
       "      <th>1529</th>\n",
       "      <td>NaN</td>\n",
       "      <td>Germany</td>\n",
       "      <td>2020-02-07 16:33:03</td>\n",
       "      <td>13.0</td>\n",
       "      <td>0.0</td>\n",
       "      <td>0.0</td>\n",
       "      <td>51.0000</td>\n",
       "      <td>9.0000</td>\n",
       "      <td>02-08-2020.csv</td>\n",
       "      <td>2020-02-07</td>\n",
       "    </tr>\n",
       "    <tr>\n",
       "      <th>1601</th>\n",
       "      <td>NaN</td>\n",
       "      <td>Germany</td>\n",
       "      <td>2020-02-09 06:13:11</td>\n",
       "      <td>14.0</td>\n",
       "      <td>0.0</td>\n",
       "      <td>0.0</td>\n",
       "      <td>51.0000</td>\n",
       "      <td>9.0000</td>\n",
       "      <td>02-09-2020.csv</td>\n",
       "      <td>2020-02-09</td>\n",
       "    </tr>\n",
       "    <tr>\n",
       "      <th>1664</th>\n",
       "      <td>NaN</td>\n",
       "      <td>Germany</td>\n",
       "      <td>2020-03-01 23:23:02</td>\n",
       "      <td>130.0</td>\n",
       "      <td>0.0</td>\n",
       "      <td>16.0</td>\n",
       "      <td>51.0000</td>\n",
       "      <td>9.0000</td>\n",
       "      <td>03-01-2020.csv</td>\n",
       "      <td>2020-03-01</td>\n",
       "    </tr>\n",
       "    <tr>\n",
       "      <th>1795</th>\n",
       "      <td>NaN</td>\n",
       "      <td>Germany</td>\n",
       "      <td>2020-02-02 18:03:05</td>\n",
       "      <td>10.0</td>\n",
       "      <td>0.0</td>\n",
       "      <td>0.0</td>\n",
       "      <td>51.0000</td>\n",
       "      <td>9.0000</td>\n",
       "      <td>02-02-2020.csv</td>\n",
       "      <td>2020-02-02</td>\n",
       "    </tr>\n",
       "    <tr>\n",
       "      <th>1862</th>\n",
       "      <td>NaN</td>\n",
       "      <td>Germany</td>\n",
       "      <td>2020-02-03 20:53:02</td>\n",
       "      <td>12.0</td>\n",
       "      <td>0.0</td>\n",
       "      <td>0.0</td>\n",
       "      <td>51.0000</td>\n",
       "      <td>9.0000</td>\n",
       "      <td>02-03-2020.csv</td>\n",
       "      <td>2020-02-03</td>\n",
       "    </tr>\n",
       "    <tr>\n",
       "      <th>1935</th>\n",
       "      <td>Bavaria</td>\n",
       "      <td>Germany</td>\n",
       "      <td>2020-01-31 23:59:00</td>\n",
       "      <td>5.0</td>\n",
       "      <td>NaN</td>\n",
       "      <td>NaN</td>\n",
       "      <td>NaN</td>\n",
       "      <td>NaN</td>\n",
       "      <td>01-31-2020.csv</td>\n",
       "      <td>2020-01-31</td>\n",
       "    </tr>\n",
       "    <tr>\n",
       "      <th>2010</th>\n",
       "      <td>Bavaria</td>\n",
       "      <td>Germany</td>\n",
       "      <td>2020-01-30 16:00:00</td>\n",
       "      <td>4.0</td>\n",
       "      <td>NaN</td>\n",
       "      <td>NaN</td>\n",
       "      <td>NaN</td>\n",
       "      <td>NaN</td>\n",
       "      <td>01-30-2020.csv</td>\n",
       "      <td>2020-01-30</td>\n",
       "    </tr>\n",
       "    <tr>\n",
       "      <th>2055</th>\n",
       "      <td>NaN</td>\n",
       "      <td>Germany</td>\n",
       "      <td>2020-02-21 23:03:13</td>\n",
       "      <td>16.0</td>\n",
       "      <td>0.0</td>\n",
       "      <td>14.0</td>\n",
       "      <td>51.0000</td>\n",
       "      <td>9.0000</td>\n",
       "      <td>02-21-2020.csv</td>\n",
       "      <td>2020-02-21</td>\n",
       "    </tr>\n",
       "    <tr>\n",
       "      <th>2137</th>\n",
       "      <td>NaN</td>\n",
       "      <td>Germany</td>\n",
       "      <td>2020-02-18 17:03:03</td>\n",
       "      <td>16.0</td>\n",
       "      <td>0.0</td>\n",
       "      <td>12.0</td>\n",
       "      <td>51.0000</td>\n",
       "      <td>9.0000</td>\n",
       "      <td>02-20-2020.csv</td>\n",
       "      <td>2020-02-18</td>\n",
       "    </tr>\n",
       "    <tr>\n",
       "      <th>2179</th>\n",
       "      <td>NaN</td>\n",
       "      <td>Germany</td>\n",
       "      <td>2020-03-17 18:53:02</td>\n",
       "      <td>9257.0</td>\n",
       "      <td>24.0</td>\n",
       "      <td>67.0</td>\n",
       "      <td>51.1657</td>\n",
       "      <td>10.4515</td>\n",
       "      <td>03-17-2020.csv</td>\n",
       "      <td>2020-03-17</td>\n",
       "    </tr>\n",
       "    <tr>\n",
       "      <th>2456</th>\n",
       "      <td>NaN</td>\n",
       "      <td>Germany</td>\n",
       "      <td>2020-03-16 20:13:11</td>\n",
       "      <td>7272.0</td>\n",
       "      <td>17.0</td>\n",
       "      <td>67.0</td>\n",
       "      <td>51.1657</td>\n",
       "      <td>10.4515</td>\n",
       "      <td>03-16-2020.csv</td>\n",
       "      <td>2020-03-16</td>\n",
       "    </tr>\n",
       "    <tr>\n",
       "      <th>2761</th>\n",
       "      <td>NaN</td>\n",
       "      <td>Germany</td>\n",
       "      <td>2020-02-13 15:13:11</td>\n",
       "      <td>16.0</td>\n",
       "      <td>0.0</td>\n",
       "      <td>1.0</td>\n",
       "      <td>51.0000</td>\n",
       "      <td>9.0000</td>\n",
       "      <td>02-15-2020.csv</td>\n",
       "      <td>2020-02-13</td>\n",
       "    </tr>\n",
       "    <tr>\n",
       "      <th>2836</th>\n",
       "      <td>NaN</td>\n",
       "      <td>Germany</td>\n",
       "      <td>2020-02-13 15:13:11</td>\n",
       "      <td>16.0</td>\n",
       "      <td>0.0</td>\n",
       "      <td>1.0</td>\n",
       "      <td>51.0000</td>\n",
       "      <td>9.0000</td>\n",
       "      <td>02-14-2020.csv</td>\n",
       "      <td>2020-02-13</td>\n",
       "    </tr>\n",
       "    <tr>\n",
       "      <th>2993</th>\n",
       "      <td>NaN</td>\n",
       "      <td>Germany</td>\n",
       "      <td>2020-03-04 19:33:03</td>\n",
       "      <td>262.0</td>\n",
       "      <td>0.0</td>\n",
       "      <td>16.0</td>\n",
       "      <td>51.0000</td>\n",
       "      <td>9.0000</td>\n",
       "      <td>03-04-2020.csv</td>\n",
       "      <td>2020-03-04</td>\n",
       "    </tr>\n",
       "    <tr>\n",
       "      <th>3146</th>\n",
       "      <td>NaN</td>\n",
       "      <td>Germany</td>\n",
       "      <td>2020-03-05 17:43:03</td>\n",
       "      <td>482.0</td>\n",
       "      <td>0.0</td>\n",
       "      <td>16.0</td>\n",
       "      <td>51.0000</td>\n",
       "      <td>9.0000</td>\n",
       "      <td>03-05-2020.csv</td>\n",
       "      <td>2020-03-05</td>\n",
       "    </tr>\n",
       "    <tr>\n",
       "      <th>3340</th>\n",
       "      <td>NaN</td>\n",
       "      <td>Germany</td>\n",
       "      <td>2020-02-03 20:53:02</td>\n",
       "      <td>12.0</td>\n",
       "      <td>0.0</td>\n",
       "      <td>0.0</td>\n",
       "      <td>51.0000</td>\n",
       "      <td>9.0000</td>\n",
       "      <td>02-06-2020.csv</td>\n",
       "      <td>2020-02-03</td>\n",
       "    </tr>\n",
       "    <tr>\n",
       "      <th>3412</th>\n",
       "      <td>NaN</td>\n",
       "      <td>Germany</td>\n",
       "      <td>2020-02-07 16:33:03</td>\n",
       "      <td>13.0</td>\n",
       "      <td>0.0</td>\n",
       "      <td>0.0</td>\n",
       "      <td>51.0000</td>\n",
       "      <td>9.0000</td>\n",
       "      <td>02-07-2020.csv</td>\n",
       "      <td>2020-02-07</td>\n",
       "    </tr>\n",
       "    <tr>\n",
       "      <th>3500</th>\n",
       "      <td>NaN</td>\n",
       "      <td>Germany</td>\n",
       "      <td>2020-03-11 20:00:00</td>\n",
       "      <td>3675.0</td>\n",
       "      <td>7.0</td>\n",
       "      <td>46.0</td>\n",
       "      <td>51.1657</td>\n",
       "      <td>10.4515</td>\n",
       "      <td>03-13-2020.csv</td>\n",
       "      <td>2020-03-11</td>\n",
       "    </tr>\n",
       "    <tr>\n",
       "      <th>3683</th>\n",
       "      <td>NaN</td>\n",
       "      <td>Germany</td>\n",
       "      <td>2020-03-12 09:53:06</td>\n",
       "      <td>2078.0</td>\n",
       "      <td>3.0</td>\n",
       "      <td>25.0</td>\n",
       "      <td>51.0000</td>\n",
       "      <td>9.0000</td>\n",
       "      <td>03-12-2020.csv</td>\n",
       "      <td>2020-03-12</td>\n",
       "    </tr>\n",
       "    <tr>\n",
       "      <th>4017</th>\n",
       "      <td>NaN</td>\n",
       "      <td>Germany</td>\n",
       "      <td>2020-02-11 19:33:03</td>\n",
       "      <td>16.0</td>\n",
       "      <td>0.0</td>\n",
       "      <td>0.0</td>\n",
       "      <td>51.0000</td>\n",
       "      <td>9.0000</td>\n",
       "      <td>02-11-2020.csv</td>\n",
       "      <td>2020-02-11</td>\n",
       "    </tr>\n",
       "    <tr>\n",
       "      <th>4090</th>\n",
       "      <td>NaN</td>\n",
       "      <td>Germany</td>\n",
       "      <td>2020-02-09 06:13:11</td>\n",
       "      <td>14.0</td>\n",
       "      <td>0.0</td>\n",
       "      <td>0.0</td>\n",
       "      <td>51.0000</td>\n",
       "      <td>9.0000</td>\n",
       "      <td>02-10-2020.csv</td>\n",
       "      <td>2020-02-09</td>\n",
       "    </tr>\n",
       "    <tr>\n",
       "      <th>4166</th>\n",
       "      <td>NaN</td>\n",
       "      <td>Germany</td>\n",
       "      <td>2020-02-25 21:33:02</td>\n",
       "      <td>17.0</td>\n",
       "      <td>0.0</td>\n",
       "      <td>14.0</td>\n",
       "      <td>51.0000</td>\n",
       "      <td>9.0000</td>\n",
       "      <td>02-25-2020.csv</td>\n",
       "      <td>2020-02-25</td>\n",
       "    </tr>\n",
       "    <tr>\n",
       "      <th>4259</th>\n",
       "      <td>NaN</td>\n",
       "      <td>Germany</td>\n",
       "      <td>2020-02-21 23:03:13</td>\n",
       "      <td>16.0</td>\n",
       "      <td>0.0</td>\n",
       "      <td>14.0</td>\n",
       "      <td>51.0000</td>\n",
       "      <td>9.0000</td>\n",
       "      <td>02-24-2020.csv</td>\n",
       "      <td>2020-02-21</td>\n",
       "    </tr>\n",
       "    <tr>\n",
       "      <th>4312</th>\n",
       "      <td>NaN</td>\n",
       "      <td>Germany</td>\n",
       "      <td>2020-03-19 20:13:08</td>\n",
       "      <td>15320.0</td>\n",
       "      <td>44.0</td>\n",
       "      <td>113.0</td>\n",
       "      <td>51.1657</td>\n",
       "      <td>10.4515</td>\n",
       "      <td>03-19-2020.csv</td>\n",
       "      <td>2020-03-19</td>\n",
       "    </tr>\n",
       "    <tr>\n",
       "      <th>4604</th>\n",
       "      <td>NaN</td>\n",
       "      <td>Germany</td>\n",
       "      <td>2020-03-18 19:33:02</td>\n",
       "      <td>12327.0</td>\n",
       "      <td>28.0</td>\n",
       "      <td>105.0</td>\n",
       "      <td>51.1657</td>\n",
       "      <td>10.4515</td>\n",
       "      <td>03-18-2020.csv</td>\n",
       "      <td>2020-03-18</td>\n",
       "    </tr>\n",
       "    <tr>\n",
       "      <th>4935</th>\n",
       "      <td>Bavaria</td>\n",
       "      <td>Germany</td>\n",
       "      <td>2020-01-28 23:00:00</td>\n",
       "      <td>4.0</td>\n",
       "      <td>NaN</td>\n",
       "      <td>NaN</td>\n",
       "      <td>NaN</td>\n",
       "      <td>NaN</td>\n",
       "      <td>01-28-2020.csv</td>\n",
       "      <td>2020-01-28</td>\n",
       "    </tr>\n",
       "    <tr>\n",
       "      <th>4987</th>\n",
       "      <td>Bavaria</td>\n",
       "      <td>Germany</td>\n",
       "      <td>2020-01-29 19:30:00</td>\n",
       "      <td>4.0</td>\n",
       "      <td>NaN</td>\n",
       "      <td>NaN</td>\n",
       "      <td>NaN</td>\n",
       "      <td>NaN</td>\n",
       "      <td>01-29-2020.csv</td>\n",
       "      <td>2020-01-29</td>\n",
       "    </tr>\n",
       "    <tr>\n",
       "      <th>5027</th>\n",
       "      <td>NaN</td>\n",
       "      <td>Germany</td>\n",
       "      <td>2020-02-28 00:13:18</td>\n",
       "      <td>48.0</td>\n",
       "      <td>0.0</td>\n",
       "      <td>16.0</td>\n",
       "      <td>51.0000</td>\n",
       "      <td>9.0000</td>\n",
       "      <td>02-28-2020.csv</td>\n",
       "      <td>2020-02-28</td>\n",
       "    </tr>\n",
       "    <tr>\n",
       "      <th>5138</th>\n",
       "      <td>NaN</td>\n",
       "      <td>Germany</td>\n",
       "      <td>2020-02-29 14:43:03</td>\n",
       "      <td>79.0</td>\n",
       "      <td>0.0</td>\n",
       "      <td>16.0</td>\n",
       "      <td>51.0000</td>\n",
       "      <td>9.0000</td>\n",
       "      <td>02-29-2020.csv</td>\n",
       "      <td>2020-02-29</td>\n",
       "    </tr>\n",
       "    <tr>\n",
       "      <th>5228</th>\n",
       "      <td>NaN</td>\n",
       "      <td>Germany</td>\n",
       "      <td>2020-03-14 22:13:11</td>\n",
       "      <td>4585.0</td>\n",
       "      <td>9.0</td>\n",
       "      <td>46.0</td>\n",
       "      <td>51.1657</td>\n",
       "      <td>10.4515</td>\n",
       "      <td>03-14-2020.csv</td>\n",
       "      <td>2020-03-14</td>\n",
       "    </tr>\n",
       "    <tr>\n",
       "      <th>5477</th>\n",
       "      <td>NaN</td>\n",
       "      <td>Germany</td>\n",
       "      <td>2020-03-15 18:20:18</td>\n",
       "      <td>5795.0</td>\n",
       "      <td>11.0</td>\n",
       "      <td>46.0</td>\n",
       "      <td>51.1657</td>\n",
       "      <td>10.4515</td>\n",
       "      <td>03-15-2020.csv</td>\n",
       "      <td>2020-03-15</td>\n",
       "    </tr>\n",
       "    <tr>\n",
       "      <th>5853</th>\n",
       "      <td>NaN</td>\n",
       "      <td>Germany</td>\n",
       "      <td>2020-02-13 15:13:11</td>\n",
       "      <td>16.0</td>\n",
       "      <td>0.0</td>\n",
       "      <td>1.0</td>\n",
       "      <td>51.0000</td>\n",
       "      <td>9.0000</td>\n",
       "      <td>02-16-2020.csv</td>\n",
       "      <td>2020-02-13</td>\n",
       "    </tr>\n",
       "    <tr>\n",
       "      <th>5928</th>\n",
       "      <td>NaN</td>\n",
       "      <td>Germany</td>\n",
       "      <td>2020-02-13 15:13:11</td>\n",
       "      <td>16.0</td>\n",
       "      <td>0.0</td>\n",
       "      <td>1.0</td>\n",
       "      <td>51.0000</td>\n",
       "      <td>9.0000</td>\n",
       "      <td>02-17-2020.csv</td>\n",
       "      <td>2020-02-13</td>\n",
       "    </tr>\n",
       "    <tr>\n",
       "      <th>6005</th>\n",
       "      <td>NaN</td>\n",
       "      <td>Germany</td>\n",
       "      <td>2020-02-21 23:03:13</td>\n",
       "      <td>16.0</td>\n",
       "      <td>0.0</td>\n",
       "      <td>14.0</td>\n",
       "      <td>51.0000</td>\n",
       "      <td>9.0000</td>\n",
       "      <td>02-22-2020.csv</td>\n",
       "      <td>2020-02-21</td>\n",
       "    </tr>\n",
       "    <tr>\n",
       "      <th>6089</th>\n",
       "      <td>NaN</td>\n",
       "      <td>Germany</td>\n",
       "      <td>2020-02-21 23:03:13</td>\n",
       "      <td>16.0</td>\n",
       "      <td>0.0</td>\n",
       "      <td>14.0</td>\n",
       "      <td>51.0000</td>\n",
       "      <td>9.0000</td>\n",
       "      <td>02-23-2020.csv</td>\n",
       "      <td>2020-02-21</td>\n",
       "    </tr>\n",
       "    <tr>\n",
       "      <th>6137</th>\n",
       "      <td>NaN</td>\n",
       "      <td>Germany</td>\n",
       "      <td>2020-03-20 20:13:15</td>\n",
       "      <td>19848.0</td>\n",
       "      <td>67.0</td>\n",
       "      <td>180.0</td>\n",
       "      <td>51.1657</td>\n",
       "      <td>10.4515</td>\n",
       "      <td>03-20-2020.csv</td>\n",
       "      <td>2020-03-20</td>\n",
       "    </tr>\n",
       "    <tr>\n",
       "      <th>6457</th>\n",
       "      <td>NaN</td>\n",
       "      <td>Germany</td>\n",
       "      <td>2020-03-03 20:03:06</td>\n",
       "      <td>196.0</td>\n",
       "      <td>0.0</td>\n",
       "      <td>16.0</td>\n",
       "      <td>51.0000</td>\n",
       "      <td>9.0000</td>\n",
       "      <td>03-03-2020.csv</td>\n",
       "      <td>2020-03-03</td>\n",
       "    </tr>\n",
       "    <tr>\n",
       "      <th>6610</th>\n",
       "      <td>NaN</td>\n",
       "      <td>Germany</td>\n",
       "      <td>2020-03-02 20:33:02</td>\n",
       "      <td>159.0</td>\n",
       "      <td>0.0</td>\n",
       "      <td>16.0</td>\n",
       "      <td>51.0000</td>\n",
       "      <td>9.0000</td>\n",
       "      <td>03-02-2020.csv</td>\n",
       "      <td>2020-03-02</td>\n",
       "    </tr>\n",
       "    <tr>\n",
       "      <th>6762</th>\n",
       "      <td>NaN</td>\n",
       "      <td>Germany</td>\n",
       "      <td>2020-02-01 18:33:00</td>\n",
       "      <td>8.0</td>\n",
       "      <td>0.0</td>\n",
       "      <td>0.0</td>\n",
       "      <td>51.0000</td>\n",
       "      <td>9.0000</td>\n",
       "      <td>02-01-2020.csv</td>\n",
       "      <td>2020-02-01</td>\n",
       "    </tr>\n",
       "    <tr>\n",
       "      <th>6800</th>\n",
       "      <td>NaN</td>\n",
       "      <td>Germany</td>\n",
       "      <td>2020-03-09 18:13:11</td>\n",
       "      <td>1176.0</td>\n",
       "      <td>2.0</td>\n",
       "      <td>18.0</td>\n",
       "      <td>51.0000</td>\n",
       "      <td>9.0000</td>\n",
       "      <td>03-09-2020.csv</td>\n",
       "      <td>2020-03-09</td>\n",
       "    </tr>\n",
       "    <tr>\n",
       "      <th>7066</th>\n",
       "      <td>NaN</td>\n",
       "      <td>Germany</td>\n",
       "      <td>2020-03-08 21:03:03</td>\n",
       "      <td>1040.0</td>\n",
       "      <td>0.0</td>\n",
       "      <td>18.0</td>\n",
       "      <td>51.0000</td>\n",
       "      <td>9.0000</td>\n",
       "      <td>03-08-2020.csv</td>\n",
       "      <td>2020-03-08</td>\n",
       "    </tr>\n",
       "  </tbody>\n",
       "</table>\n",
       "</div>"
      ],
      "text/plain": [
       "     Province/State Country/Region         Last Update  Confirmed  Deaths  \\\n",
       "40              NaN        Germany 2020-02-26 23:43:03       27.0     0.0   \n",
       "137             NaN        Germany 2020-02-27 23:13:04       46.0     0.0   \n",
       "244             NaN        Germany 2020-02-18 17:03:03       16.0     0.0   \n",
       "319             NaN        Germany 2020-02-18 17:03:03       16.0     0.0   \n",
       "363             NaN        Germany 2020-03-10 18:53:02     1457.0     2.0   \n",
       "569             NaN        Germany 2020-03-11 19:13:17     1908.0     3.0   \n",
       "817             NaN        Germany 2020-02-11 19:33:03       16.0     0.0   \n",
       "890             NaN        Germany 2020-02-13 15:13:11       16.0     0.0   \n",
       "937             NaN        Germany 2020-03-07 17:43:05      799.0     0.0   \n",
       "1163            NaN        Germany 2020-03-06 17:53:03      670.0     0.0   \n",
       "1385            NaN        Germany 2020-02-03 20:53:02       12.0     0.0   \n",
       "1456            NaN        Germany 2020-02-03 20:53:02       12.0     0.0   \n",
       "1529            NaN        Germany 2020-02-07 16:33:03       13.0     0.0   \n",
       "1601            NaN        Germany 2020-02-09 06:13:11       14.0     0.0   \n",
       "1664            NaN        Germany 2020-03-01 23:23:02      130.0     0.0   \n",
       "1795            NaN        Germany 2020-02-02 18:03:05       10.0     0.0   \n",
       "1862            NaN        Germany 2020-02-03 20:53:02       12.0     0.0   \n",
       "1935        Bavaria        Germany 2020-01-31 23:59:00        5.0     NaN   \n",
       "2010        Bavaria        Germany 2020-01-30 16:00:00        4.0     NaN   \n",
       "2055            NaN        Germany 2020-02-21 23:03:13       16.0     0.0   \n",
       "2137            NaN        Germany 2020-02-18 17:03:03       16.0     0.0   \n",
       "2179            NaN        Germany 2020-03-17 18:53:02     9257.0    24.0   \n",
       "2456            NaN        Germany 2020-03-16 20:13:11     7272.0    17.0   \n",
       "2761            NaN        Germany 2020-02-13 15:13:11       16.0     0.0   \n",
       "2836            NaN        Germany 2020-02-13 15:13:11       16.0     0.0   \n",
       "2993            NaN        Germany 2020-03-04 19:33:03      262.0     0.0   \n",
       "3146            NaN        Germany 2020-03-05 17:43:03      482.0     0.0   \n",
       "3340            NaN        Germany 2020-02-03 20:53:02       12.0     0.0   \n",
       "3412            NaN        Germany 2020-02-07 16:33:03       13.0     0.0   \n",
       "3500            NaN        Germany 2020-03-11 20:00:00     3675.0     7.0   \n",
       "3683            NaN        Germany 2020-03-12 09:53:06     2078.0     3.0   \n",
       "4017            NaN        Germany 2020-02-11 19:33:03       16.0     0.0   \n",
       "4090            NaN        Germany 2020-02-09 06:13:11       14.0     0.0   \n",
       "4166            NaN        Germany 2020-02-25 21:33:02       17.0     0.0   \n",
       "4259            NaN        Germany 2020-02-21 23:03:13       16.0     0.0   \n",
       "4312            NaN        Germany 2020-03-19 20:13:08    15320.0    44.0   \n",
       "4604            NaN        Germany 2020-03-18 19:33:02    12327.0    28.0   \n",
       "4935        Bavaria        Germany 2020-01-28 23:00:00        4.0     NaN   \n",
       "4987        Bavaria        Germany 2020-01-29 19:30:00        4.0     NaN   \n",
       "5027            NaN        Germany 2020-02-28 00:13:18       48.0     0.0   \n",
       "5138            NaN        Germany 2020-02-29 14:43:03       79.0     0.0   \n",
       "5228            NaN        Germany 2020-03-14 22:13:11     4585.0     9.0   \n",
       "5477            NaN        Germany 2020-03-15 18:20:18     5795.0    11.0   \n",
       "5853            NaN        Germany 2020-02-13 15:13:11       16.0     0.0   \n",
       "5928            NaN        Germany 2020-02-13 15:13:11       16.0     0.0   \n",
       "6005            NaN        Germany 2020-02-21 23:03:13       16.0     0.0   \n",
       "6089            NaN        Germany 2020-02-21 23:03:13       16.0     0.0   \n",
       "6137            NaN        Germany 2020-03-20 20:13:15    19848.0    67.0   \n",
       "6457            NaN        Germany 2020-03-03 20:03:06      196.0     0.0   \n",
       "6610            NaN        Germany 2020-03-02 20:33:02      159.0     0.0   \n",
       "6762            NaN        Germany 2020-02-01 18:33:00        8.0     0.0   \n",
       "6800            NaN        Germany 2020-03-09 18:13:11     1176.0     2.0   \n",
       "7066            NaN        Germany 2020-03-08 21:03:03     1040.0     0.0   \n",
       "\n",
       "      Recovered  Latitude  Longitude          source         day  \n",
       "40         15.0   51.0000     9.0000  02-26-2020.csv  2020-02-26  \n",
       "137        16.0   51.0000     9.0000  02-27-2020.csv  2020-02-27  \n",
       "244        12.0   51.0000     9.0000  02-18-2020.csv  2020-02-18  \n",
       "319        12.0   51.0000     9.0000  02-19-2020.csv  2020-02-18  \n",
       "363        18.0   51.0000     9.0000  03-10-2020.csv  2020-03-10  \n",
       "569        25.0   51.0000     9.0000  03-11-2020.csv  2020-03-11  \n",
       "817         0.0   51.0000     9.0000  02-12-2020.csv  2020-02-11  \n",
       "890         1.0   51.0000     9.0000  02-13-2020.csv  2020-02-13  \n",
       "937        18.0   51.0000     9.0000  03-07-2020.csv  2020-03-07  \n",
       "1163       17.0   51.0000     9.0000  03-06-2020.csv  2020-03-06  \n",
       "1385        0.0   51.0000     9.0000  02-05-2020.csv  2020-02-03  \n",
       "1456        0.0   51.0000     9.0000  02-04-2020.csv  2020-02-03  \n",
       "1529        0.0   51.0000     9.0000  02-08-2020.csv  2020-02-07  \n",
       "1601        0.0   51.0000     9.0000  02-09-2020.csv  2020-02-09  \n",
       "1664       16.0   51.0000     9.0000  03-01-2020.csv  2020-03-01  \n",
       "1795        0.0   51.0000     9.0000  02-02-2020.csv  2020-02-02  \n",
       "1862        0.0   51.0000     9.0000  02-03-2020.csv  2020-02-03  \n",
       "1935        NaN       NaN        NaN  01-31-2020.csv  2020-01-31  \n",
       "2010        NaN       NaN        NaN  01-30-2020.csv  2020-01-30  \n",
       "2055       14.0   51.0000     9.0000  02-21-2020.csv  2020-02-21  \n",
       "2137       12.0   51.0000     9.0000  02-20-2020.csv  2020-02-18  \n",
       "2179       67.0   51.1657    10.4515  03-17-2020.csv  2020-03-17  \n",
       "2456       67.0   51.1657    10.4515  03-16-2020.csv  2020-03-16  \n",
       "2761        1.0   51.0000     9.0000  02-15-2020.csv  2020-02-13  \n",
       "2836        1.0   51.0000     9.0000  02-14-2020.csv  2020-02-13  \n",
       "2993       16.0   51.0000     9.0000  03-04-2020.csv  2020-03-04  \n",
       "3146       16.0   51.0000     9.0000  03-05-2020.csv  2020-03-05  \n",
       "3340        0.0   51.0000     9.0000  02-06-2020.csv  2020-02-03  \n",
       "3412        0.0   51.0000     9.0000  02-07-2020.csv  2020-02-07  \n",
       "3500       46.0   51.1657    10.4515  03-13-2020.csv  2020-03-11  \n",
       "3683       25.0   51.0000     9.0000  03-12-2020.csv  2020-03-12  \n",
       "4017        0.0   51.0000     9.0000  02-11-2020.csv  2020-02-11  \n",
       "4090        0.0   51.0000     9.0000  02-10-2020.csv  2020-02-09  \n",
       "4166       14.0   51.0000     9.0000  02-25-2020.csv  2020-02-25  \n",
       "4259       14.0   51.0000     9.0000  02-24-2020.csv  2020-02-21  \n",
       "4312      113.0   51.1657    10.4515  03-19-2020.csv  2020-03-19  \n",
       "4604      105.0   51.1657    10.4515  03-18-2020.csv  2020-03-18  \n",
       "4935        NaN       NaN        NaN  01-28-2020.csv  2020-01-28  \n",
       "4987        NaN       NaN        NaN  01-29-2020.csv  2020-01-29  \n",
       "5027       16.0   51.0000     9.0000  02-28-2020.csv  2020-02-28  \n",
       "5138       16.0   51.0000     9.0000  02-29-2020.csv  2020-02-29  \n",
       "5228       46.0   51.1657    10.4515  03-14-2020.csv  2020-03-14  \n",
       "5477       46.0   51.1657    10.4515  03-15-2020.csv  2020-03-15  \n",
       "5853        1.0   51.0000     9.0000  02-16-2020.csv  2020-02-13  \n",
       "5928        1.0   51.0000     9.0000  02-17-2020.csv  2020-02-13  \n",
       "6005       14.0   51.0000     9.0000  02-22-2020.csv  2020-02-21  \n",
       "6089       14.0   51.0000     9.0000  02-23-2020.csv  2020-02-21  \n",
       "6137      180.0   51.1657    10.4515  03-20-2020.csv  2020-03-20  \n",
       "6457       16.0   51.0000     9.0000  03-03-2020.csv  2020-03-03  \n",
       "6610       16.0   51.0000     9.0000  03-02-2020.csv  2020-03-02  \n",
       "6762        0.0   51.0000     9.0000  02-01-2020.csv  2020-02-01  \n",
       "6800       18.0   51.0000     9.0000  03-09-2020.csv  2020-03-09  \n",
       "7066       18.0   51.0000     9.0000  03-08-2020.csv  2020-03-08  "
      ]
     },
     "execution_count": 12,
     "metadata": {},
     "output_type": "execute_result"
    }
   ],
   "source": [
    "epidemie_df[epidemie_df['Country/Region'] == 'Germany']"
   ]
  },
  {
   "cell_type": "code",
   "execution_count": 13,
   "metadata": {
    "scrolled": true
   },
   "outputs": [
    {
     "data": {
      "image/png": "[encoded data removed]",
      "text/plain": [
       "<Figure size 720x360 with 1 Axes>"
      ]
     },
     "metadata": {
      "needs_background": "light"
     },
     "output_type": "display_data"
    }
   ],
   "source": [
    "epidemie_df[epidemie_df['Country/Region'] == 'Italy'].set_index('Last Update')['Confirmed'].plot(figsize=(10,5));"
   ]
  },
  {
   "cell_type": "code",
   "execution_count": 14,
   "metadata": {},
   "outputs": [
    {
     "data": {
      "image/png": "[encoded data removed]",
      "text/plain": [
       "<Figure size 720x360 with 1 Axes>"
      ]
     },
     "metadata": {
      "needs_background": "light"
     },
     "output_type": "display_data"
    }
   ],
   "source": [
    "epidemie_df[epidemie_df['Country/Region'] == 'UK'].set_index('Last Update')['Confirmed'].plot(figsize=(10,5));"
   ]
  },
  {
   "cell_type": "code",
   "execution_count": 15,
   "metadata": {},
   "outputs": [
    {
     "data": {
      "image/png": "[encoded data removed]",
      "text/plain": [
       "<Figure size 720x360 with 1 Axes>"
      ]
     },
     "metadata": {
      "needs_background": "light"
     },
     "output_type": "display_data"
    }
   ],
   "source": [
    "epidemie_df[epidemie_df['Country/Region'] == 'Germany'].set_index('Last Update')['Confirmed'].plot(figsize=(10,5));"
   ]
  },
  {
   "cell_type": "code",
   "execution_count": 16,
   "metadata": {},
   "outputs": [],
   "source": [
    "france_df = (epidemie_df[epidemie_df['Country/Region'] == 'France']\n",
    "                          .drop_duplicates(subset=['Province/State', 'day'])\n",
    "             .groupby(by=['Country/Region', 'day'])\n",
    "             .agg({'Confirmed': 'sum', 'Deaths':'sum', 'Recovered':'sum'})\n",
    "             .reset_index()\n",
    "            )\n",
    "                          "
   ]
  },
  {
   "cell_type": "code",
   "execution_count": 17,
   "metadata": {},
   "outputs": [
    {
     "data": {
      "text/plain": [
       "(  Country/Region         day  Confirmed  Deaths  Recovered\n",
       " 0         France  2020-01-24        2.0     0.0        0.0\n",
       " 1         France  2020-01-25        3.0     0.0        0.0\n",
       " 2         France  2020-01-26        3.0     0.0        0.0\n",
       " 3         France  2020-01-27        3.0     0.0        0.0\n",
       " 4         France  2020-01-28        4.0     0.0        0.0,\n",
       "    Country/Region         day  Confirmed  Deaths  Recovered\n",
       " 30         France  2020-03-16     6645.0   148.0       12.0\n",
       " 31         France  2020-03-17     7674.0   148.0       12.0\n",
       " 32         France  2020-03-18     9046.0   148.0       12.0\n",
       " 33         France  2020-03-19    10883.0   243.0       12.0\n",
       " 34         France  2020-03-20    12623.0   450.0       12.0)"
      ]
     },
     "execution_count": 17,
     "metadata": {},
     "output_type": "execute_result"
    }
   ],
   "source": [
    "france_df.head(), france_df.tail()"
   ]
  },
  {
   "cell_type": "code",
   "execution_count": 18,
   "metadata": {},
   "outputs": [
    {
     "data": {
      "text/plain": [
       "day\n",
       "2020-01-24        2.0\n",
       "2020-01-25        3.0\n",
       "2020-01-26        3.0\n",
       "2020-01-27        3.0\n",
       "2020-01-28        4.0\n",
       "2020-01-29        5.0\n",
       "2020-01-30        5.0\n",
       "2020-01-31        5.0\n",
       "2020-02-01        6.0\n",
       "2020-02-08       11.0\n",
       "2020-02-12       11.0\n",
       "2020-02-15       12.0\n",
       "2020-02-25       14.0\n",
       "2020-02-26       18.0\n",
       "2020-02-27       38.0\n",
       "2020-02-28       57.0\n",
       "2020-02-29      100.0\n",
       "2020-03-01      130.0\n",
       "2020-03-02      191.0\n",
       "2020-03-03      204.0\n",
       "2020-03-04      285.0\n",
       "2020-03-05      377.0\n",
       "2020-03-06      653.0\n",
       "2020-03-07      949.0\n",
       "2020-03-08     1126.0\n",
       "2020-03-09     1209.0\n",
       "2020-03-10     1784.0\n",
       "2020-03-11     2287.0\n",
       "2020-03-14     4481.0\n",
       "2020-03-15     4509.0\n",
       "2020-03-16     6645.0\n",
       "2020-03-17     7674.0\n",
       "2020-03-18     9046.0\n",
       "2020-03-19    10883.0\n",
       "2020-03-20    12623.0\n",
       "Name: Confirmed, dtype: float64"
      ]
     },
     "execution_count": 18,
     "metadata": {},
     "output_type": "execute_result"
    }
   ],
   "source": [
    "france_df.set_index('day')['Confirmed']"
   ]
  },
  {
   "cell_type": "code",
   "execution_count": 19,
   "metadata": {},
   "outputs": [
    {
     "data": {
      "text/plain": [
       "<bound method DataFrame.set_index of      Province/State Country/Region         Last Update  Confirmed  Deaths  \\\n",
       "567          France         France 2020-03-11 22:53:03     2281.0    48.0   \n",
       "2181         France         France 2020-03-17 19:13:08     7652.0   148.0   \n",
       "2457         France         France 2020-03-16 20:13:11     6633.0   148.0   \n",
       "3526         France         France 2020-03-11 20:00:00     3661.0    79.0   \n",
       "3681         France         France 2020-03-11 22:53:03     2281.0    48.0   \n",
       "4313         France         France 2020-03-19 20:43:02    10871.0   243.0   \n",
       "4605         France         France 2020-03-18 18:33:02     9043.0   148.0   \n",
       "5229         France         France 2020-03-14 20:13:16     4469.0    91.0   \n",
       "5478         France         France 2020-03-15 18:20:18     4499.0    91.0   \n",
       "6139         France         France 2020-03-20 22:43:03    12612.0   450.0   \n",
       "\n",
       "      Recovered  Latitude  Longitude          source         day  \n",
       "567        12.0   46.2276     2.2137  03-11-2020.csv  2020-03-11  \n",
       "2181       12.0   46.2276     2.2137  03-17-2020.csv  2020-03-17  \n",
       "2457       12.0   46.2276     2.2137  03-16-2020.csv  2020-03-16  \n",
       "3526       12.0   46.2276     2.2137  03-13-2020.csv  2020-03-11  \n",
       "3681       12.0   46.2276     2.2137  03-12-2020.csv  2020-03-11  \n",
       "4313       12.0   46.2276     2.2137  03-19-2020.csv  2020-03-19  \n",
       "4605       12.0   46.2276     2.2137  03-18-2020.csv  2020-03-18  \n",
       "5229       12.0   46.2276     2.2137  03-14-2020.csv  2020-03-14  \n",
       "5478       12.0   46.2276     2.2137  03-15-2020.csv  2020-03-15  \n",
       "6139       12.0   46.2276     2.2137  03-20-2020.csv  2020-03-20  >"
      ]
     },
     "execution_count": 19,
     "metadata": {},
     "output_type": "execute_result"
    }
   ],
   "source": [
    "epidemie_df[(epidemie_df['Country/Region'] == 'France') & (epidemie_df['Province/State'] == 'France')].set_index"
   ]
  },
  {
   "cell_type": "code",
   "execution_count": 20,
   "metadata": {
    "scrolled": true
   },
   "outputs": [
    {
     "data": {
      "image/png": "[encoded data removed]",
      "text/plain": [
       "<Figure size 1440x360 with 1 Axes>"
      ]
     },
     "metadata": {
      "needs_background": "light"
     },
     "output_type": "display_data"
    }
   ],
   "source": [
    "epidemie_df[epidemie_df['Country/Region'] == 'Mainland China'].set_index('Last Update')['Confirmed'].plot(figsize=(20,5));"
   ]
  },
  {
   "cell_type": "code",
   "execution_count": 21,
   "metadata": {},
   "outputs": [
    {
     "data": {
      "image/png": "[encoded data removed]",
      "text/plain": [
       "<Figure size 1080x360 with 1 Axes>"
      ]
     },
     "metadata": {
      "needs_background": "light"
     },
     "output_type": "display_data"
    }
   ],
   "source": [
    "(epidemie_df[epidemie_df['Country/Region'] == 'Mainland China'].groupby('day').agg({'Confirmed': 'sum'})).plot(figsize=(15,5));"
   ]
  },
  {
   "cell_type": "code",
   "execution_count": 22,
   "metadata": {},
   "outputs": [
    {
     "data": {
      "image/png": "[encoded data removed]",
      "text/plain": [
       "<Figure size 1080x360 with 1 Axes>"
      ]
     },
     "metadata": {
      "needs_background": "light"
     },
     "output_type": "display_data"
    }
   ],
   "source": [
    "(epidemie_df[epidemie_df['Country/Region'] == 'Mainland China']\n",
    " .fillna(value=0)\n",
    " .groupby('day').agg({'Confirmed': 'sum', 'Deaths' : 'sum'})).plot(figsize=(15,5));"
   ]
  },
  {
   "cell_type": "code",
   "execution_count": 23,
   "metadata": {},
   "outputs": [
    {
     "data": {
      "image/png": "[encoded data removed]",
      "text/plain": [
       "<Figure size 720x360 with 1 Axes>"
      ]
     },
     "metadata": {
      "needs_background": "light"
     },
     "output_type": "display_data"
    }
   ],
   "source": [
    "epidemie_df[epidemie_df['Country/Region'] == 'France'].set_index('Last Update')[['Confirmed', 'Deaths']].plot(figsize=(10,5));"
   ]
  },
  {
   "cell_type": "code",
   "execution_count": 24,
   "metadata": {},
   "outputs": [
    {
     "data": {
      "image/png": "[encoded data removed]",
      "text/plain": [
       "<Figure size 720x360 with 2 Axes>"
      ]
     },
     "metadata": {
      "needs_background": "light"
     },
     "output_type": "display_data"
    }
   ],
   "source": [
    "(epidemie_df[epidemie_df['Country/Region'] == 'France']\n",
    "    .set_index('day')[ ['Confirmed', 'Deaths'] ]\n",
    "    .plot(secondary_y=['Deaths'], figsize=(10, 5))\n",
    ");"
   ]
  },
  {
   "cell_type": "code",
   "execution_count": 25,
   "metadata": {},
   "outputs": [
    {
     "data": {
      "image/png": "[encoded data removed]",
      "text/plain": [
       "<Figure size 720x360 with 2 Axes>"
      ]
     },
     "metadata": {
      "needs_background": "light"
     },
     "output_type": "display_data"
    }
   ],
   "source": [
    "(epidemie_df[epidemie_df['Country/Region'] == 'France']\n",
    "    .set_index('day')[ ['Confirmed', 'Recovered'] ]\n",
    "    .plot(secondary_y=['Recovered'], figsize=(10, 5))\n",
    ");"
   ]
  },
  {
   "cell_type": "code",
   "execution_count": 26,
   "metadata": {},
   "outputs": [],
   "source": [
    "china_df = (epidemie_df[epidemie_df['Country/Region'] == 'Mainland China']\n",
    "            .groupby('day')\n",
    "            .agg({'Confirmed' : 'sum', 'Deaths' : 'sum' , 'Recovered' : 'sum'})\n",
    "           )"
   ]
  },
  {
   "cell_type": "code",
   "execution_count": 27,
   "metadata": {},
   "outputs": [
    {
     "data": {
      "text/html": [
       "<div>\n",
       "<style scoped>\n",
       "    .dataframe tbody tr th:only-of-type {\n",
       "        vertical-align: middle;\n",
       "    }\n",
       "\n",
       "    .dataframe tbody tr th {\n",
       "        vertical-align: top;\n",
       "    }\n",
       "\n",
       "    .dataframe thead th {\n",
       "        text-align: right;\n",
       "    }\n",
       "</style>\n",
       "<table border=\"1\" class=\"dataframe\">\n",
       "  <thead>\n",
       "    <tr style=\"text-align: right;\">\n",
       "      <th></th>\n",
       "      <th>Confirmed</th>\n",
       "      <th>Deaths</th>\n",
       "      <th>Recovered</th>\n",
       "    </tr>\n",
       "    <tr>\n",
       "      <th>day</th>\n",
       "      <th></th>\n",
       "      <th></th>\n",
       "      <th></th>\n",
       "    </tr>\n",
       "  </thead>\n",
       "  <tbody>\n",
       "    <tr>\n",
       "      <th>2020-01-22</th>\n",
       "      <td>547.0</td>\n",
       "      <td>17.0</td>\n",
       "      <td>28.0</td>\n",
       "    </tr>\n",
       "    <tr>\n",
       "      <th>2020-01-23</th>\n",
       "      <td>639.0</td>\n",
       "      <td>18.0</td>\n",
       "      <td>30.0</td>\n",
       "    </tr>\n",
       "    <tr>\n",
       "      <th>2020-01-24</th>\n",
       "      <td>916.0</td>\n",
       "      <td>26.0</td>\n",
       "      <td>36.0</td>\n",
       "    </tr>\n",
       "    <tr>\n",
       "      <th>2020-01-25</th>\n",
       "      <td>1399.0</td>\n",
       "      <td>42.0</td>\n",
       "      <td>39.0</td>\n",
       "    </tr>\n",
       "    <tr>\n",
       "      <th>2020-01-26</th>\n",
       "      <td>2062.0</td>\n",
       "      <td>56.0</td>\n",
       "      <td>49.0</td>\n",
       "    </tr>\n",
       "  </tbody>\n",
       "</table>\n",
       "</div>"
      ],
      "text/plain": [
       "            Confirmed  Deaths  Recovered\n",
       "day                                     \n",
       "2020-01-22      547.0    17.0       28.0\n",
       "2020-01-23      639.0    18.0       30.0\n",
       "2020-01-24      916.0    26.0       36.0\n",
       "2020-01-25     1399.0    42.0       39.0\n",
       "2020-01-26     2062.0    56.0       49.0"
      ]
     },
     "execution_count": 27,
     "metadata": {},
     "output_type": "execute_result"
    }
   ],
   "source": [
    "china_df.head()"
   ]
  },
  {
   "cell_type": "code",
   "execution_count": 28,
   "metadata": {},
   "outputs": [
    {
     "data": {
      "image/png": "[encoded data removed]",
      "text/plain": [
       "<Figure size 864x360 with 2 Axes>"
      ]
     },
     "metadata": {
      "needs_background": "light"
     },
     "output_type": "display_data"
    }
   ],
   "source": [
    "china_df.plot(secondary_y=['Deaths'], figsize=(12,5));"
   ]
  },
  {
   "cell_type": "code",
   "execution_count": 241,
   "metadata": {},
   "outputs": [
    {
     "ename": "AttributeError",
     "evalue": "'Series' object has no attribute 'value_count'",
     "output_type": "error",
     "traceback": [
      "\u001b[0;31m---------------------------------------------------------------------------\u001b[0m",
      "\u001b[0;31mAttributeError\u001b[0m                            Traceback (most recent call last)",
      "\u001b[0;32m<ipython-input-241-51fed3091a63>\u001b[0m in \u001b[0;36m<module>\u001b[0;34m\u001b[0m\n\u001b[0;32m----> 1\u001b[0;31m \u001b[0mepidemie_df\u001b[0m\u001b[0;34m[\u001b[0m\u001b[0;34m'Country/Region'\u001b[0m\u001b[0;34m]\u001b[0m\u001b[0;34m.\u001b[0m\u001b[0mvalue_count\u001b[0m\u001b[0;34m(\u001b[0m\u001b[0;34m)\u001b[0m\u001b[0;34m\u001b[0m\u001b[0;34m\u001b[0m\u001b[0m\n\u001b[0m",
      "\u001b[0;32m~/opt/anaconda3/envs/corona/lib/python3.8/site-packages/pandas/core/generic.py\u001b[0m in \u001b[0;36m__getattr__\u001b[0;34m(self, name)\u001b[0m\n\u001b[1;32m   5272\u001b[0m             \u001b[0;32mif\u001b[0m \u001b[0mself\u001b[0m\u001b[0;34m.\u001b[0m\u001b[0m_info_axis\u001b[0m\u001b[0;34m.\u001b[0m\u001b[0m_can_hold_identifiers_and_holds_name\u001b[0m\u001b[0;34m(\u001b[0m\u001b[0mname\u001b[0m\u001b[0;34m)\u001b[0m\u001b[0;34m:\u001b[0m\u001b[0;34m\u001b[0m\u001b[0;34m\u001b[0m\u001b[0m\n\u001b[1;32m   5273\u001b[0m                 \u001b[0;32mreturn\u001b[0m \u001b[0mself\u001b[0m\u001b[0;34m[\u001b[0m\u001b[0mname\u001b[0m\u001b[0;34m]\u001b[0m\u001b[0;34m\u001b[0m\u001b[0;34m\u001b[0m\u001b[0m\n\u001b[0;32m-> 5274\u001b[0;31m             \u001b[0;32mreturn\u001b[0m \u001b[0mobject\u001b[0m\u001b[0;34m.\u001b[0m\u001b[0m__getattribute__\u001b[0m\u001b[0;34m(\u001b[0m\u001b[0mself\u001b[0m\u001b[0;34m,\u001b[0m \u001b[0mname\u001b[0m\u001b[0;34m)\u001b[0m\u001b[0;34m\u001b[0m\u001b[0;34m\u001b[0m\u001b[0m\n\u001b[0m\u001b[1;32m   5275\u001b[0m \u001b[0;34m\u001b[0m\u001b[0m\n\u001b[1;32m   5276\u001b[0m     \u001b[0;32mdef\u001b[0m \u001b[0m__setattr__\u001b[0m\u001b[0;34m(\u001b[0m\u001b[0mself\u001b[0m\u001b[0;34m,\u001b[0m \u001b[0mname\u001b[0m\u001b[0;34m:\u001b[0m \u001b[0mstr\u001b[0m\u001b[0;34m,\u001b[0m \u001b[0mvalue\u001b[0m\u001b[0;34m)\u001b[0m \u001b[0;34m->\u001b[0m \u001b[0;32mNone\u001b[0m\u001b[0;34m:\u001b[0m\u001b[0;34m\u001b[0m\u001b[0;34m\u001b[0m\u001b[0m\n",
      "\u001b[0;31mAttributeError\u001b[0m: 'Series' object has no attribute 'value_count'"
     ]
    }
   ],
   "source": [
    "epidemie_df['Country/Region'].value_count()"
   ]
  },
  {
   "cell_type": "code",
   "execution_count": 29,
   "metadata": {},
   "outputs": [
    {
     "data": {
      "image/png": "[encoded data removed]",
      "text/plain": [
       "<Figure size 864x360 with 2 Axes>"
      ]
     },
     "metadata": {
      "needs_background": "light"
     },
     "output_type": "display_data"
    }
   ],
   "source": [
    "(china_df\n",
    " .assign(death_rate=lambda _df: _df['Deaths'] / _df['Confirmed'])[['Confirmed', 'death_rate']]\n",
    " .plot(secondary_y=['death_rate'], figsize=(12,5))\n",
    ");"
   ]
  },
  {
   "cell_type": "code",
   "execution_count": 30,
   "metadata": {},
   "outputs": [],
   "source": [
    "EUROPE = [ 'Italie','Germany','UK','Spain']"
   ]
  },
  {
   "cell_type": "code",
   "execution_count": 31,
   "metadata": {},
   "outputs": [],
   "source": [
    "import matplotlib.pyplot as plt"
   ]
  },
  {
   "cell_type": "code",
   "execution_count": 249,
   "metadata": {},
   "outputs": [
    {
     "ename": "TypeError",
     "evalue": "'numpy.ndarray' object is not callable",
     "output_type": "error",
     "traceback": [
      "\u001b[0;31m---------------------------------------------------------------------------\u001b[0m",
      "\u001b[0;31mTypeError\u001b[0m                                 Traceback (most recent call last)",
      "\u001b[0;32m<ipython-input-249-bc47b667b72c>\u001b[0m in \u001b[0;36m<module>\u001b[0;34m\u001b[0m\n\u001b[0;32m----> 1\u001b[0;31m \u001b[0mepidemie_df\u001b[0m\u001b[0;34m[\u001b[0m\u001b[0;34m'Country/Region'\u001b[0m\u001b[0;34m]\u001b[0m\u001b[0;34m.\u001b[0m\u001b[0mvalues\u001b[0m\u001b[0;34m(\u001b[0m\u001b[0;34m)\u001b[0m\u001b[0;34m\u001b[0m\u001b[0;34m\u001b[0m\u001b[0m\n\u001b[0m",
      "\u001b[0;31mTypeError\u001b[0m: 'numpy.ndarray' object is not callable"
     ]
    }
   ],
   "source": [
    "epidemie_df['Country/Region'].values()"
   ]
  },
  {
   "cell_type": "code",
   "execution_count": 32,
   "metadata": {},
   "outputs": [
    {
     "data": {
      "image/png": "[encoded data removed]",
      "text/plain": [
       "<Figure size 900x360 with 3 Axes>"
      ]
     },
     "metadata": {
      "needs_background": "light"
     },
     "output_type": "display_data"
    }
   ],
   "source": [
    "\n",
    "\n",
    "g = sns.FacetGrid(epidemie_df[epidemie_df['Country/Region'].isin(EUROPE)],\n",
    "                  col=\"Country/Region\", col_wrap=2, height=2.5, aspect=2.5)\n",
    "g = g.map(plt.plot, \"day\", \"Confirmed\");"
   ]
  },
  {
   "cell_type": "code",
   "execution_count": 251,
   "metadata": {},
   "outputs": [],
   "source": [
    "#conda install -c plotly chart-studio\n",
    "\n",
    "#import chart_studio.plotly as py\n",
    "import plotly.graph_objs as go\n",
    "\n",
    "from plotly.offline import init_notebook_mode, plot, iplot"
   ]
  },
  {
   "cell_type": "code",
   "execution_count": 252,
   "metadata": {},
   "outputs": [],
   "source": [
    "france_df = epidemie_df[epidemie_df['Country/Region'] == 'France']"
   ]
  },
  {
   "cell_type": "code",
   "execution_count": 256,
   "metadata": {},
   "outputs": [],
   "source": [
    "UK_df=epidemie_df[epidemie_df['Country/Region'] == 'UK']"
   ]
  },
  {
   "cell_type": "code",
   "execution_count": 257,
   "metadata": {},
   "outputs": [],
   "source": [
    "import plotly.offline as py\n",
    "import plotly.graph_objs as go"
   ]
  },
  {
   "cell_type": "code",
   "execution_count": 261,
   "metadata": {},
   "outputs": [
    {
     "data": {
      "application/vnd.plotly.v1+json": {
       "config": {
        "linkText": "Export to plot.ly",
        "plotlyServerURL": "https://plot.ly",
        "showLink": false
       },
       "data": [
        {
         "name": "Confirmés/France",
         "type": "scatter",
         "x": [
          "2020-02-24",
          "2020-02-27",
          "2020-02-16",
          "2020-02-16",
          "2020-03-10",
          "2020-02-12",
          "2020-02-12",
          "2020-03-07",
          "2020-03-06",
          "2020-02-01",
          "2020-02-01",
          "2020-02-07",
          "2020-02-07",
          "2020-03-01",
          "2020-02-01",
          "2020-02-01",
          "2020-01-31",
          "2020-02-16",
          "2020-02-16",
          "2020-02-12",
          "2020-02-12",
          "2020-03-04",
          "2020-03-05",
          "2020-02-01",
          "2020-02-07",
          "2020-02-10",
          "2020-02-10",
          "2020-02-24",
          "2020-02-24",
          "2020-02-28",
          "2020-02-29",
          "2020-02-16",
          "2020-02-16",
          "2020-02-16",
          "2020-02-16",
          "2020-03-03",
          "2020-03-02",
          "2020-02-01",
          "2020-03-09",
          "2020-03-08"
         ],
         "y": [
          13,
          15,
          9,
          9,
          382,
          9,
          9,
          206,
          163,
          2,
          2,
          3,
          3,
          36,
          2,
          2,
          2,
          9,
          9,
          9,
          9,
          85,
          115,
          2,
          3,
          8,
          8,
          13,
          13,
          20,
          23,
          9,
          9,
          9,
          9,
          51,
          40,
          2,
          321,
          273
         ]
        },
        {
         "name": "Confirmés/Allemagne",
         "type": "scatter",
         "x": [
          "2020-02-26",
          "2020-02-27",
          "2020-02-15",
          "2020-02-15",
          "2020-03-10",
          "2020-03-11",
          "2020-02-09",
          "2020-02-09",
          "2020-03-07",
          "2020-03-06",
          "2020-02-01",
          "2020-02-01",
          "2020-02-01",
          "2020-02-09",
          "2020-03-01",
          "2020-02-01",
          "2020-02-01",
          "2020-02-15",
          "2020-02-15",
          "2020-03-17",
          "2020-03-16",
          "2020-02-15",
          "2020-02-09",
          "2020-03-04",
          "2020-03-05",
          "2020-02-01",
          "2020-02-01",
          "2020-03-11",
          "2020-03-12",
          "2020-02-09",
          "2020-02-09",
          "2020-02-25",
          "2020-02-15",
          "2020-03-19",
          "2020-03-18",
          "2020-02-28",
          "2020-02-29",
          "2020-03-14",
          "2020-03-15",
          "2020-02-15",
          "2020-02-15",
          "2020-02-15",
          "2020-02-15",
          "2020-03-20",
          "2020-03-03",
          "2020-03-02",
          "2020-02-01",
          "2020-03-09",
          "2020-03-08"
         ],
         "y": [
          13,
          15,
          2,
          2,
          1695,
          2277,
          2,
          2,
          500,
          400,
          1,
          1,
          1,
          2,
          84,
          1,
          1,
          2,
          2,
          11748,
          9942,
          2,
          2,
          222,
          259,
          1,
          1,
          5232,
          2277,
          2,
          2,
          6,
          2,
          17963,
          13910,
          32,
          45,
          6391,
          7798,
          2,
          2,
          2,
          2,
          20410,
          165,
          120,
          1,
          1073,
          673
         ]
        }
       ],
       "layout": {
        "template": {
         "data": {
          "bar": [
           {
            "error_x": {
             "color": "#2a3f5f"
            },
            "error_y": {
             "color": "#2a3f5f"
            },
            "marker": {
             "line": {
              "color": "#E5ECF6",
              "width": 0.5
             }
            },
            "type": "bar"
           }
          ],
          "barpolar": [
           {
            "marker": {
             "line": {
              "color": "#E5ECF6",
              "width": 0.5
             }
            },
            "type": "barpolar"
           }
          ],
          "carpet": [
           {
            "aaxis": {
             "endlinecolor": "#2a3f5f",
             "gridcolor": "white",
             "linecolor": "white",
             "minorgridcolor": "white",
             "startlinecolor": "#2a3f5f"
            },
            "baxis": {
             "endlinecolor": "#2a3f5f",
             "gridcolor": "white",
             "linecolor": "white",
             "minorgridcolor": "white",
             "startlinecolor": "#2a3f5f"
            },
            "type": "carpet"
           }
          ],
          "choropleth": [
           {
            "colorbar": {
             "outlinewidth": 0,
             "ticks": ""
            },
            "type": "choropleth"
           }
          ],
          "contour": [
           {
            "colorbar": {
             "outlinewidth": 0,
             "ticks": ""
            },
            "colorscale": [
             [
              0,
              "#0d0887"
             ],
             [
              0.1111111111111111,
              "#46039f"
             ],
             [
              0.2222222222222222,
              "#7201a8"
             ],
             [
              0.3333333333333333,
              "#9c179e"
             ],
             [
              0.4444444444444444,
              "#bd3786"
             ],
             [
              0.5555555555555556,
              "#d8576b"
             ],
             [
              0.6666666666666666,
              "#ed7953"
             ],
             [
              0.7777777777777778,
              "#fb9f3a"
             ],
             [
              0.8888888888888888,
              "#fdca26"
             ],
             [
              1,
              "#f0f921"
             ]
            ],
            "type": "contour"
           }
          ],
          "contourcarpet": [
           {
            "colorbar": {
             "outlinewidth": 0,
             "ticks": ""
            },
            "type": "contourcarpet"
           }
          ],
          "heatmap": [
           {
            "colorbar": {
             "outlinewidth": 0,
             "ticks": ""
            },
            "colorscale": [
             [
              0,
              "#0d0887"
             ],
             [
              0.1111111111111111,
              "#46039f"
             ],
             [
              0.2222222222222222,
              "#7201a8"
             ],
             [
              0.3333333333333333,
              "#9c179e"
             ],
             [
              0.4444444444444444,
              "#bd3786"
             ],
             [
              0.5555555555555556,
              "#d8576b"
             ],
             [
              0.6666666666666666,
              "#ed7953"
             ],
             [
              0.7777777777777778,
              "#fb9f3a"
             ],
             [
              0.8888888888888888,
              "#fdca26"
             ],
             [
              1,
              "#f0f921"
             ]
            ],
            "type": "heatmap"
           }
          ],
          "heatmapgl": [
           {
            "colorbar": {
             "outlinewidth": 0,
             "ticks": ""
            },
            "colorscale": [
             [
              0,
              "#0d0887"
             ],
             [
              0.1111111111111111,
              "#46039f"
             ],
             [
              0.2222222222222222,
              "#7201a8"
             ],
             [
              0.3333333333333333,
              "#9c179e"
             ],
             [
              0.4444444444444444,
              "#bd3786"
             ],
             [
              0.5555555555555556,
              "#d8576b"
             ],
             [
              0.6666666666666666,
              "#ed7953"
             ],
             [
              0.7777777777777778,
              "#fb9f3a"
             ],
             [
              0.8888888888888888,
              "#fdca26"
             ],
             [
              1,
              "#f0f921"
             ]
            ],
            "type": "heatmapgl"
           }
          ],
          "histogram": [
           {
            "marker": {
             "colorbar": {
              "outlinewidth": 0,
              "ticks": ""
             }
            },
            "type": "histogram"
           }
          ],
          "histogram2d": [
           {
            "colorbar": {
             "outlinewidth": 0,
             "ticks": ""
            },
            "colorscale": [
             [
              0,
              "#0d0887"
             ],
             [
              0.1111111111111111,
              "#46039f"
             ],
             [
              0.2222222222222222,
              "#7201a8"
             ],
             [
              0.3333333333333333,
              "#9c179e"
             ],
             [
              0.4444444444444444,
              "#bd3786"
             ],
             [
              0.5555555555555556,
              "#d8576b"
             ],
             [
              0.6666666666666666,
              "#ed7953"
             ],
             [
              0.7777777777777778,
              "#fb9f3a"
             ],
             [
              0.8888888888888888,
              "#fdca26"
             ],
             [
              1,
              "#f0f921"
             ]
            ],
            "type": "histogram2d"
           }
          ],
          "histogram2dcontour": [
           {
            "colorbar": {
             "outlinewidth": 0,
             "ticks": ""
            },
            "colorscale": [
             [
              0,
              "#0d0887"
             ],
             [
              0.1111111111111111,
              "#46039f"
             ],
             [
              0.2222222222222222,
              "#7201a8"
             ],
             [
              0.3333333333333333,
              "#9c179e"
             ],
             [
              0.4444444444444444,
              "#bd3786"
             ],
             [
              0.5555555555555556,
              "#d8576b"
             ],
             [
              0.6666666666666666,
              "#ed7953"
             ],
             [
              0.7777777777777778,
              "#fb9f3a"
             ],
             [
              0.8888888888888888,
              "#fdca26"
             ],
             [
              1,
              "#f0f921"
             ]
            ],
            "type": "histogram2dcontour"
           }
          ],
          "mesh3d": [
           {
            "colorbar": {
             "outlinewidth": 0,
             "ticks": ""
            },
            "type": "mesh3d"
           }
          ],
          "parcoords": [
           {
            "line": {
             "colorbar": {
              "outlinewidth": 0,
              "ticks": ""
             }
            },
            "type": "parcoords"
           }
          ],
          "pie": [
           {
            "automargin": true,
            "type": "pie"
           }
          ],
          "scatter": [
           {
            "marker": {
             "colorbar": {
              "outlinewidth": 0,
              "ticks": ""
             }
            },
            "type": "scatter"
           }
          ],
          "scatter3d": [
           {
            "line": {
             "colorbar": {
              "outlinewidth": 0,
              "ticks": ""
             }
            },
            "marker": {
             "colorbar": {
              "outlinewidth": 0,
              "ticks": ""
             }
            },
            "type": "scatter3d"
           }
          ],
          "scattercarpet": [
           {
            "marker": {
             "colorbar": {
              "outlinewidth": 0,
              "ticks": ""
             }
            },
            "type": "scattercarpet"
           }
          ],
          "scattergeo": [
           {
            "marker": {
             "colorbar": {
              "outlinewidth": 0,
              "ticks": ""
             }
            },
            "type": "scattergeo"
           }
          ],
          "scattergl": [
           {
            "marker": {
             "colorbar": {
              "outlinewidth": 0,
              "ticks": ""
             }
            },
            "type": "scattergl"
           }
          ],
          "scattermapbox": [
           {
            "marker": {
             "colorbar": {
              "outlinewidth": 0,
              "ticks": ""
             }
            },
            "type": "scattermapbox"
           }
          ],
          "scatterpolar": [
           {
            "marker": {
             "colorbar": {
              "outlinewidth": 0,
              "ticks": ""
             }
            },
            "type": "scatterpolar"
           }
          ],
          "scatterpolargl": [
           {
            "marker": {
             "colorbar": {
              "outlinewidth": 0,
              "ticks": ""
             }
            },
            "type": "scatterpolargl"
           }
          ],
          "scatterternary": [
           {
            "marker": {
             "colorbar": {
              "outlinewidth": 0,
              "ticks": ""
             }
            },
            "type": "scatterternary"
           }
          ],
          "surface": [
           {
            "colorbar": {
             "outlinewidth": 0,
             "ticks": ""
            },
            "colorscale": [
             [
              0,
              "#0d0887"
             ],
             [
              0.1111111111111111,
              "#46039f"
             ],
             [
              0.2222222222222222,
              "#7201a8"
             ],
             [
              0.3333333333333333,
              "#9c179e"
             ],
             [
              0.4444444444444444,
              "#bd3786"
             ],
             [
              0.5555555555555556,
              "#d8576b"
             ],
             [
              0.6666666666666666,
              "#ed7953"
             ],
             [
              0.7777777777777778,
              "#fb9f3a"
             ],
             [
              0.8888888888888888,
              "#fdca26"
             ],
             [
              1,
              "#f0f921"
             ]
            ],
            "type": "surface"
           }
          ],
          "table": [
           {
            "cells": {
             "fill": {
              "color": "#EBF0F8"
             },
             "line": {
              "color": "white"
             }
            },
            "header": {
             "fill": {
              "color": "#C8D4E3"
             },
             "line": {
              "color": "white"
             }
            },
            "type": "table"
           }
          ]
         },
         "layout": {
          "annotationdefaults": {
           "arrowcolor": "#2a3f5f",
           "arrowhead": 0,
           "arrowwidth": 1
          },
          "coloraxis": {
           "colorbar": {
            "outlinewidth": 0,
            "ticks": ""
           }
          },
          "colorscale": {
           "diverging": [
            [
             0,
             "#8e0152"
            ],
            [
             0.1,
             "#c51b7d"
            ],
            [
             0.2,
             "#de77ae"
            ],
            [
             0.3,
             "#f1b6da"
            ],
            [
             0.4,
             "#fde0ef"
            ],
            [
             0.5,
             "#f7f7f7"
            ],
            [
             0.6,
             "#e6f5d0"
            ],
            [
             0.7,
             "#b8e186"
            ],
            [
             0.8,
             "#7fbc41"
            ],
            [
             0.9,
             "#4d9221"
            ],
            [
             1,
             "#276419"
            ]
           ],
           "sequential": [
            [
             0,
             "#0d0887"
            ],
            [
             0.1111111111111111,
             "#46039f"
            ],
            [
             0.2222222222222222,
             "#7201a8"
            ],
            [
             0.3333333333333333,
             "#9c179e"
            ],
            [
             0.4444444444444444,
             "#bd3786"
            ],
            [
             0.5555555555555556,
             "#d8576b"
            ],
            [
             0.6666666666666666,
             "#ed7953"
            ],
            [
             0.7777777777777778,
             "#fb9f3a"
            ],
            [
             0.8888888888888888,
             "#fdca26"
            ],
            [
             1,
             "#f0f921"
            ]
           ],
           "sequentialminus": [
            [
             0,
             "#0d0887"
            ],
            [
             0.1111111111111111,
             "#46039f"
            ],
            [
             0.2222222222222222,
             "#7201a8"
            ],
            [
             0.3333333333333333,
             "#9c179e"
            ],
            [
             0.4444444444444444,
             "#bd3786"
            ],
            [
             0.5555555555555556,
             "#d8576b"
            ],
            [
             0.6666666666666666,
             "#ed7953"
            ],
            [
             0.7777777777777778,
             "#fb9f3a"
            ],
            [
             0.8888888888888888,
             "#fdca26"
            ],
            [
             1,
             "#f0f921"
            ]
           ]
          },
          "colorway": [
           "#636efa",
           "#EF553B",
           "#00cc96",
           "#ab63fa",
           "#FFA15A",
           "#19d3f3",
           "#FF6692",
           "#B6E880",
           "#FF97FF",
           "#FECB52"
          ],
          "font": {
           "color": "#2a3f5f"
          },
          "geo": {
           "bgcolor": "white",
           "lakecolor": "white",
           "landcolor": "#E5ECF6",
           "showlakes": true,
           "showland": true,
           "subunitcolor": "white"
          },
          "hoverlabel": {
           "align": "left"
          },
          "hovermode": "closest",
          "mapbox": {
           "style": "light"
          },
          "paper_bgcolor": "white",
          "plot_bgcolor": "#E5ECF6",
          "polar": {
           "angularaxis": {
            "gridcolor": "white",
            "linecolor": "white",
            "ticks": ""
           },
           "bgcolor": "#E5ECF6",
           "radialaxis": {
            "gridcolor": "white",
            "linecolor": "white",
            "ticks": ""
           }
          },
          "scene": {
           "xaxis": {
            "backgroundcolor": "#E5ECF6",
            "gridcolor": "white",
            "gridwidth": 2,
            "linecolor": "white",
            "showbackground": true,
            "ticks": "",
            "zerolinecolor": "white"
           },
           "yaxis": {
            "backgroundcolor": "#E5ECF6",
            "gridcolor": "white",
            "gridwidth": 2,
            "linecolor": "white",
            "showbackground": true,
            "ticks": "",
            "zerolinecolor": "white"
           },
           "zaxis": {
            "backgroundcolor": "#E5ECF6",
            "gridcolor": "white",
            "gridwidth": 2,
            "linecolor": "white",
            "showbackground": true,
            "ticks": "",
            "zerolinecolor": "white"
           }
          },
          "shapedefaults": {
           "line": {
            "color": "#2a3f5f"
           }
          },
          "ternary": {
           "aaxis": {
            "gridcolor": "white",
            "linecolor": "white",
            "ticks": ""
           },
           "baxis": {
            "gridcolor": "white",
            "linecolor": "white",
            "ticks": ""
           },
           "bgcolor": "#E5ECF6",
           "caxis": {
            "gridcolor": "white",
            "linecolor": "white",
            "ticks": ""
           }
          },
          "title": {
           "x": 0.05
          },
          "xaxis": {
           "automargin": true,
           "gridcolor": "white",
           "linecolor": "white",
           "ticks": "",
           "title": {
            "standoff": 15
           },
           "zerolinecolor": "white",
           "zerolinewidth": 2
          },
          "yaxis": {
           "automargin": true,
           "gridcolor": "white",
           "linecolor": "white",
           "ticks": "",
           "title": {
            "standoff": 15
           },
           "zerolinecolor": "white",
           "zerolinewidth": 2
          }
         }
        },
        "title": {
         "text": "Epidémie Corona Virus"
        },
        "xaxis": {
         "range": [
          "2020-01-22",
          "2020-03-20"
         ]
        }
       }
      },
      "text/html": [
       "<div>\n",
       "        \n",
       "        \n",
       "            <div id=\"59c6de71-794d-45ac-bfef-c2191adfb8eb\" class=\"plotly-graph-div\" style=\"height:525px; width:100%;\"></div>\n",
       "            <script type=\"text/javascript\">\n",
       "                require([\"plotly\"], function(Plotly) {\n",
       "                    window.PLOTLYENV=window.PLOTLYENV || {};\n",
       "                    \n",
       "                if (document.getElementById(\"59c6de71-794d-45ac-bfef-c2191adfb8eb\")) {\n",
       "                    Plotly.newPlot(\n",
       "                        '59c6de71-794d-45ac-bfef-c2191adfb8eb',\n",
       "                        [{\"name\": \"Confirm\\u00e9s/France\", \"type\": \"scatter\", \"x\": [\"2020-02-24\", \"2020-02-27\", \"2020-02-16\", \"2020-02-16\", \"2020-03-10\", \"2020-02-12\", \"2020-02-12\", \"2020-03-07\", \"2020-03-06\", \"2020-02-01\", \"2020-02-01\", \"2020-02-07\", \"2020-02-07\", \"2020-03-01\", \"2020-02-01\", \"2020-02-01\", \"2020-01-31\", \"2020-02-16\", \"2020-02-16\", \"2020-02-12\", \"2020-02-12\", \"2020-03-04\", \"2020-03-05\", \"2020-02-01\", \"2020-02-07\", \"2020-02-10\", \"2020-02-10\", \"2020-02-24\", \"2020-02-24\", \"2020-02-28\", \"2020-02-29\", \"2020-02-16\", \"2020-02-16\", \"2020-02-16\", \"2020-02-16\", \"2020-03-03\", \"2020-03-02\", \"2020-02-01\", \"2020-03-09\", \"2020-03-08\"], \"y\": [13.0, 15.0, 9.0, 9.0, 382.0, 9.0, 9.0, 206.0, 163.0, 2.0, 2.0, 3.0, 3.0, 36.0, 2.0, 2.0, 2.0, 9.0, 9.0, 9.0, 9.0, 85.0, 115.0, 2.0, 3.0, 8.0, 8.0, 13.0, 13.0, 20.0, 23.0, 9.0, 9.0, 9.0, 9.0, 51.0, 40.0, 2.0, 321.0, 273.0]}, {\"name\": \"Confirm\\u00e9s/Allemagne\", \"type\": \"scatter\", \"x\": [\"2020-02-26\", \"2020-02-27\", \"2020-02-15\", \"2020-02-15\", \"2020-03-10\", \"2020-03-11\", \"2020-02-09\", \"2020-02-09\", \"2020-03-07\", \"2020-03-06\", \"2020-02-01\", \"2020-02-01\", \"2020-02-01\", \"2020-02-09\", \"2020-03-01\", \"2020-02-01\", \"2020-02-01\", \"2020-02-15\", \"2020-02-15\", \"2020-03-17\", \"2020-03-16\", \"2020-02-15\", \"2020-02-09\", \"2020-03-04\", \"2020-03-05\", \"2020-02-01\", \"2020-02-01\", \"2020-03-11\", \"2020-03-12\", \"2020-02-09\", \"2020-02-09\", \"2020-02-25\", \"2020-02-15\", \"2020-03-19\", \"2020-03-18\", \"2020-02-28\", \"2020-02-29\", \"2020-03-14\", \"2020-03-15\", \"2020-02-15\", \"2020-02-15\", \"2020-02-15\", \"2020-02-15\", \"2020-03-20\", \"2020-03-03\", \"2020-03-02\", \"2020-02-01\", \"2020-03-09\", \"2020-03-08\"], \"y\": [13.0, 15.0, 2.0, 2.0, 1695.0, 2277.0, 2.0, 2.0, 500.0, 400.0, 1.0, 1.0, 1.0, 2.0, 84.0, 1.0, 1.0, 2.0, 2.0, 11748.0, 9942.0, 2.0, 2.0, 222.0, 259.0, 1.0, 1.0, 5232.0, 2277.0, 2.0, 2.0, 6.0, 2.0, 17963.0, 13910.0, 32.0, 45.0, 6391.0, 7798.0, 2.0, 2.0, 2.0, 2.0, 20410.0, 165.0, 120.0, 1.0, 1073.0, 673.0]}],\n",
       "                        {\"template\": {\"data\": {\"bar\": [{\"error_x\": {\"color\": \"#2a3f5f\"}, \"error_y\": {\"color\": \"#2a3f5f\"}, \"marker\": {\"line\": {\"color\": \"#E5ECF6\", \"width\": 0.5}}, \"type\": \"bar\"}], \"barpolar\": [{\"marker\": {\"line\": {\"color\": \"#E5ECF6\", \"width\": 0.5}}, \"type\": \"barpolar\"}], \"carpet\": [{\"aaxis\": {\"endlinecolor\": \"#2a3f5f\", \"gridcolor\": \"white\", \"linecolor\": \"white\", \"minorgridcolor\": \"white\", \"startlinecolor\": \"#2a3f5f\"}, \"baxis\": {\"endlinecolor\": \"#2a3f5f\", \"gridcolor\": \"white\", \"linecolor\": \"white\", \"minorgridcolor\": \"white\", \"startlinecolor\": \"#2a3f5f\"}, \"type\": \"carpet\"}], \"choropleth\": [{\"colorbar\": {\"outlinewidth\": 0, \"ticks\": \"\"}, \"type\": \"choropleth\"}], \"contour\": [{\"colorbar\": {\"outlinewidth\": 0, \"ticks\": \"\"}, \"colorscale\": [[0.0, \"#0d0887\"], [0.1111111111111111, \"#46039f\"], [0.2222222222222222, \"#7201a8\"], [0.3333333333333333, \"#9c179e\"], [0.4444444444444444, \"#bd3786\"], [0.5555555555555556, \"#d8576b\"], [0.6666666666666666, \"#ed7953\"], [0.7777777777777778, \"#fb9f3a\"], [0.8888888888888888, \"#fdca26\"], [1.0, \"#f0f921\"]], \"type\": \"contour\"}], \"contourcarpet\": [{\"colorbar\": {\"outlinewidth\": 0, \"ticks\": \"\"}, \"type\": \"contourcarpet\"}], \"heatmap\": [{\"colorbar\": {\"outlinewidth\": 0, \"ticks\": \"\"}, \"colorscale\": [[0.0, \"#0d0887\"], [0.1111111111111111, \"#46039f\"], [0.2222222222222222, \"#7201a8\"], [0.3333333333333333, \"#9c179e\"], [0.4444444444444444, \"#bd3786\"], [0.5555555555555556, \"#d8576b\"], [0.6666666666666666, \"#ed7953\"], [0.7777777777777778, \"#fb9f3a\"], [0.8888888888888888, \"#fdca26\"], [1.0, \"#f0f921\"]], \"type\": \"heatmap\"}], \"heatmapgl\": [{\"colorbar\": {\"outlinewidth\": 0, \"ticks\": \"\"}, \"colorscale\": [[0.0, \"#0d0887\"], [0.1111111111111111, \"#46039f\"], [0.2222222222222222, \"#7201a8\"], [0.3333333333333333, \"#9c179e\"], [0.4444444444444444, \"#bd3786\"], [0.5555555555555556, \"#d8576b\"], [0.6666666666666666, \"#ed7953\"], [0.7777777777777778, \"#fb9f3a\"], [0.8888888888888888, \"#fdca26\"], [1.0, \"#f0f921\"]], \"type\": \"heatmapgl\"}], \"histogram\": [{\"marker\": {\"colorbar\": {\"outlinewidth\": 0, \"ticks\": \"\"}}, \"type\": \"histogram\"}], \"histogram2d\": [{\"colorbar\": {\"outlinewidth\": 0, \"ticks\": \"\"}, \"colorscale\": [[0.0, \"#0d0887\"], [0.1111111111111111, \"#46039f\"], [0.2222222222222222, \"#7201a8\"], [0.3333333333333333, \"#9c179e\"], [0.4444444444444444, \"#bd3786\"], [0.5555555555555556, \"#d8576b\"], [0.6666666666666666, \"#ed7953\"], [0.7777777777777778, \"#fb9f3a\"], [0.8888888888888888, \"#fdca26\"], [1.0, \"#f0f921\"]], \"type\": \"histogram2d\"}], \"histogram2dcontour\": [{\"colorbar\": {\"outlinewidth\": 0, \"ticks\": \"\"}, \"colorscale\": [[0.0, \"#0d0887\"], [0.1111111111111111, \"#46039f\"], [0.2222222222222222, \"#7201a8\"], [0.3333333333333333, \"#9c179e\"], [0.4444444444444444, \"#bd3786\"], [0.5555555555555556, \"#d8576b\"], [0.6666666666666666, \"#ed7953\"], [0.7777777777777778, \"#fb9f3a\"], [0.8888888888888888, \"#fdca26\"], [1.0, \"#f0f921\"]], \"type\": \"histogram2dcontour\"}], \"mesh3d\": [{\"colorbar\": {\"outlinewidth\": 0, \"ticks\": \"\"}, \"type\": \"mesh3d\"}], \"parcoords\": [{\"line\": {\"colorbar\": {\"outlinewidth\": 0, \"ticks\": \"\"}}, \"type\": \"parcoords\"}], \"pie\": [{\"automargin\": true, \"type\": \"pie\"}], \"scatter\": [{\"marker\": {\"colorbar\": {\"outlinewidth\": 0, \"ticks\": \"\"}}, \"type\": \"scatter\"}], \"scatter3d\": [{\"line\": {\"colorbar\": {\"outlinewidth\": 0, \"ticks\": \"\"}}, \"marker\": {\"colorbar\": {\"outlinewidth\": 0, \"ticks\": \"\"}}, \"type\": \"scatter3d\"}], \"scattercarpet\": [{\"marker\": {\"colorbar\": {\"outlinewidth\": 0, \"ticks\": \"\"}}, \"type\": \"scattercarpet\"}], \"scattergeo\": [{\"marker\": {\"colorbar\": {\"outlinewidth\": 0, \"ticks\": \"\"}}, \"type\": \"scattergeo\"}], \"scattergl\": [{\"marker\": {\"colorbar\": {\"outlinewidth\": 0, \"ticks\": \"\"}}, \"type\": \"scattergl\"}], \"scattermapbox\": [{\"marker\": {\"colorbar\": {\"outlinewidth\": 0, \"ticks\": \"\"}}, \"type\": \"scattermapbox\"}], \"scatterpolar\": [{\"marker\": {\"colorbar\": {\"outlinewidth\": 0, \"ticks\": \"\"}}, \"type\": \"scatterpolar\"}], \"scatterpolargl\": [{\"marker\": {\"colorbar\": {\"outlinewidth\": 0, \"ticks\": \"\"}}, \"type\": \"scatterpolargl\"}], \"scatterternary\": [{\"marker\": {\"colorbar\": {\"outlinewidth\": 0, \"ticks\": \"\"}}, \"type\": \"scatterternary\"}], \"surface\": [{\"colorbar\": {\"outlinewidth\": 0, \"ticks\": \"\"}, \"colorscale\": [[0.0, \"#0d0887\"], [0.1111111111111111, \"#46039f\"], [0.2222222222222222, \"#7201a8\"], [0.3333333333333333, \"#9c179e\"], [0.4444444444444444, \"#bd3786\"], [0.5555555555555556, \"#d8576b\"], [0.6666666666666666, \"#ed7953\"], [0.7777777777777778, \"#fb9f3a\"], [0.8888888888888888, \"#fdca26\"], [1.0, \"#f0f921\"]], \"type\": \"surface\"}], \"table\": [{\"cells\": {\"fill\": {\"color\": \"#EBF0F8\"}, \"line\": {\"color\": \"white\"}}, \"header\": {\"fill\": {\"color\": \"#C8D4E3\"}, \"line\": {\"color\": \"white\"}}, \"type\": \"table\"}]}, \"layout\": {\"annotationdefaults\": {\"arrowcolor\": \"#2a3f5f\", \"arrowhead\": 0, \"arrowwidth\": 1}, \"coloraxis\": {\"colorbar\": {\"outlinewidth\": 0, \"ticks\": \"\"}}, \"colorscale\": {\"diverging\": [[0, \"#8e0152\"], [0.1, \"#c51b7d\"], [0.2, \"#de77ae\"], [0.3, \"#f1b6da\"], [0.4, \"#fde0ef\"], [0.5, \"#f7f7f7\"], [0.6, \"#e6f5d0\"], [0.7, \"#b8e186\"], [0.8, \"#7fbc41\"], [0.9, \"#4d9221\"], [1, \"#276419\"]], \"sequential\": [[0.0, \"#0d0887\"], [0.1111111111111111, \"#46039f\"], [0.2222222222222222, \"#7201a8\"], [0.3333333333333333, \"#9c179e\"], [0.4444444444444444, \"#bd3786\"], [0.5555555555555556, \"#d8576b\"], [0.6666666666666666, \"#ed7953\"], [0.7777777777777778, \"#fb9f3a\"], [0.8888888888888888, \"#fdca26\"], [1.0, \"#f0f921\"]], \"sequentialminus\": [[0.0, \"#0d0887\"], [0.1111111111111111, \"#46039f\"], [0.2222222222222222, \"#7201a8\"], [0.3333333333333333, \"#9c179e\"], [0.4444444444444444, \"#bd3786\"], [0.5555555555555556, \"#d8576b\"], [0.6666666666666666, \"#ed7953\"], [0.7777777777777778, \"#fb9f3a\"], [0.8888888888888888, \"#fdca26\"], [1.0, \"#f0f921\"]]}, \"colorway\": [\"#636efa\", \"#EF553B\", \"#00cc96\", \"#ab63fa\", \"#FFA15A\", \"#19d3f3\", \"#FF6692\", \"#B6E880\", \"#FF97FF\", \"#FECB52\"], \"font\": {\"color\": \"#2a3f5f\"}, \"geo\": {\"bgcolor\": \"white\", \"lakecolor\": \"white\", \"landcolor\": \"#E5ECF6\", \"showlakes\": true, \"showland\": true, \"subunitcolor\": \"white\"}, \"hoverlabel\": {\"align\": \"left\"}, \"hovermode\": \"closest\", \"mapbox\": {\"style\": \"light\"}, \"paper_bgcolor\": \"white\", \"plot_bgcolor\": \"#E5ECF6\", \"polar\": {\"angularaxis\": {\"gridcolor\": \"white\", \"linecolor\": \"white\", \"ticks\": \"\"}, \"bgcolor\": \"#E5ECF6\", \"radialaxis\": {\"gridcolor\": \"white\", \"linecolor\": \"white\", \"ticks\": \"\"}}, \"scene\": {\"xaxis\": {\"backgroundcolor\": \"#E5ECF6\", \"gridcolor\": \"white\", \"gridwidth\": 2, \"linecolor\": \"white\", \"showbackground\": true, \"ticks\": \"\", \"zerolinecolor\": \"white\"}, \"yaxis\": {\"backgroundcolor\": \"#E5ECF6\", \"gridcolor\": \"white\", \"gridwidth\": 2, \"linecolor\": \"white\", \"showbackground\": true, \"ticks\": \"\", \"zerolinecolor\": \"white\"}, \"zaxis\": {\"backgroundcolor\": \"#E5ECF6\", \"gridcolor\": \"white\", \"gridwidth\": 2, \"linecolor\": \"white\", \"showbackground\": true, \"ticks\": \"\", \"zerolinecolor\": \"white\"}}, \"shapedefaults\": {\"line\": {\"color\": \"#2a3f5f\"}}, \"ternary\": {\"aaxis\": {\"gridcolor\": \"white\", \"linecolor\": \"white\", \"ticks\": \"\"}, \"baxis\": {\"gridcolor\": \"white\", \"linecolor\": \"white\", \"ticks\": \"\"}, \"bgcolor\": \"#E5ECF6\", \"caxis\": {\"gridcolor\": \"white\", \"linecolor\": \"white\", \"ticks\": \"\"}}, \"title\": {\"x\": 0.05}, \"xaxis\": {\"automargin\": true, \"gridcolor\": \"white\", \"linecolor\": \"white\", \"ticks\": \"\", \"title\": {\"standoff\": 15}, \"zerolinecolor\": \"white\", \"zerolinewidth\": 2}, \"yaxis\": {\"automargin\": true, \"gridcolor\": \"white\", \"linecolor\": \"white\", \"ticks\": \"\", \"title\": {\"standoff\": 15}, \"zerolinecolor\": \"white\", \"zerolinewidth\": 2}}}, \"title\": {\"text\": \"Epid\\u00e9mie Corona Virus\"}, \"xaxis\": {\"range\": [\"2020-01-22\", \"2020-03-20\"]}},\n",
       "                        {\"responsive\": true}\n",
       "                    ).then(function(){\n",
       "                            \n",
       "var gd = document.getElementById('59c6de71-794d-45ac-bfef-c2191adfb8eb');\n",
       "var x = new MutationObserver(function (mutations, observer) {{\n",
       "        var display = window.getComputedStyle(gd).display;\n",
       "        if (!display || display === 'none') {{\n",
       "            console.log([gd, 'removed!']);\n",
       "            Plotly.purge(gd);\n",
       "            observer.disconnect();\n",
       "        }}\n",
       "}});\n",
       "\n",
       "// Listen for the removal of the full notebook cells\n",
       "var notebookContainer = gd.closest('#notebook-container');\n",
       "if (notebookContainer) {{\n",
       "    x.observe(notebookContainer, {childList: true});\n",
       "}}\n",
       "\n",
       "// Listen for the clearing of the current output cell\n",
       "var outputEl = gd.closest('.output');\n",
       "if (outputEl) {{\n",
       "    x.observe(outputEl, {childList: true});\n",
       "}}\n",
       "\n",
       "                        })\n",
       "                };\n",
       "                });\n",
       "            </script>\n",
       "        </div>"
      ]
     },
     "metadata": {},
     "output_type": "display_data"
    }
   ],
   "source": [
    "data = [go.Scatter(x=UK_df['day'],\n",
    "                   y=UK_df['Confirmed'],\n",
    "                   name='Confirmés/France'\n",
    "                  ),\n",
    "        go.Scatter(x=epidemie_df[epidemie_df['Country/Region'] == 'Spain']['day'],\n",
    "                   y=epidemie_df[epidemie_df['Country/Region'] == 'Spain']['Confirmed'],\n",
    "                   name='Confirmés/Allemagne'\n",
    "                  )\n",
    "       ]\n",
    "\n",
    "layout = dict(\n",
    "    title = \"Epidémie Corona Virus\",\n",
    "    xaxis = dict(range = ['2020-01-22', '2020-03-20'])\n",
    ")\n",
    "\n",
    "fig = dict(data=data, layout=layout)\n",
    "py.iplot(fig)"
   ]
  },
  {
   "cell_type": "code",
   "execution_count": 262,
   "metadata": {},
   "outputs": [
    {
     "data": {
      "application/vnd.plotly.v1+json": {
       "config": {
        "linkText": "Export to plot.ly",
        "plotlyServerURL": "https://plot.ly",
        "showLink": false
       },
       "data": [
        {
         "name": "Confirmés/France",
         "type": "scatter",
         "x": [
          "2020-02-24",
          "2020-02-27",
          "2020-02-16",
          "2020-02-16",
          "2020-03-10",
          "2020-02-12",
          "2020-02-12",
          "2020-03-07",
          "2020-03-06",
          "2020-02-01",
          "2020-02-01",
          "2020-02-07",
          "2020-02-07",
          "2020-03-01",
          "2020-02-01",
          "2020-02-01",
          "2020-01-31",
          "2020-02-16",
          "2020-02-16",
          "2020-02-12",
          "2020-02-12",
          "2020-03-04",
          "2020-03-05",
          "2020-02-01",
          "2020-02-07",
          "2020-02-10",
          "2020-02-10",
          "2020-02-24",
          "2020-02-24",
          "2020-02-28",
          "2020-02-29",
          "2020-02-16",
          "2020-02-16",
          "2020-02-16",
          "2020-02-16",
          "2020-03-03",
          "2020-03-02",
          "2020-02-01",
          "2020-03-09",
          "2020-03-08"
         ],
         "y": [
          13,
          15,
          9,
          9,
          382,
          9,
          9,
          206,
          163,
          2,
          2,
          3,
          3,
          36,
          2,
          2,
          2,
          9,
          9,
          9,
          9,
          85,
          115,
          2,
          3,
          8,
          8,
          13,
          13,
          20,
          23,
          9,
          9,
          9,
          9,
          51,
          40,
          2,
          321,
          273
         ]
        },
        {
         "name": "Confirmés/Allemagne",
         "type": "scatter",
         "x": [
          "2020-02-26",
          "2020-02-27",
          "2020-02-15",
          "2020-02-15",
          "2020-03-10",
          "2020-03-11",
          "2020-02-09",
          "2020-02-09",
          "2020-03-07",
          "2020-03-06",
          "2020-02-01",
          "2020-02-01",
          "2020-02-01",
          "2020-02-09",
          "2020-03-01",
          "2020-02-01",
          "2020-02-01",
          "2020-02-15",
          "2020-02-15",
          "2020-03-17",
          "2020-03-16",
          "2020-02-15",
          "2020-02-09",
          "2020-03-04",
          "2020-03-05",
          "2020-02-01",
          "2020-02-01",
          "2020-03-11",
          "2020-03-12",
          "2020-02-09",
          "2020-02-09",
          "2020-02-25",
          "2020-02-15",
          "2020-03-19",
          "2020-03-18",
          "2020-02-28",
          "2020-02-29",
          "2020-03-14",
          "2020-03-15",
          "2020-02-15",
          "2020-02-15",
          "2020-02-15",
          "2020-02-15",
          "2020-03-20",
          "2020-03-03",
          "2020-03-02",
          "2020-02-01",
          "2020-03-09",
          "2020-03-08"
         ],
         "y": [
          13,
          15,
          2,
          2,
          1695,
          2277,
          2,
          2,
          500,
          400,
          1,
          1,
          1,
          2,
          84,
          1,
          1,
          2,
          2,
          11748,
          9942,
          2,
          2,
          222,
          259,
          1,
          1,
          5232,
          2277,
          2,
          2,
          6,
          2,
          17963,
          13910,
          32,
          45,
          6391,
          7798,
          2,
          2,
          2,
          2,
          20410,
          165,
          120,
          1,
          1073,
          673
         ]
        }
       ],
       "layout": {
        "template": {
         "data": {
          "bar": [
           {
            "error_x": {
             "color": "#2a3f5f"
            },
            "error_y": {
             "color": "#2a3f5f"
            },
            "marker": {
             "line": {
              "color": "#E5ECF6",
              "width": 0.5
             }
            },
            "type": "bar"
           }
          ],
          "barpolar": [
           {
            "marker": {
             "line": {
              "color": "#E5ECF6",
              "width": 0.5
             }
            },
            "type": "barpolar"
           }
          ],
          "carpet": [
           {
            "aaxis": {
             "endlinecolor": "#2a3f5f",
             "gridcolor": "white",
             "linecolor": "white",
             "minorgridcolor": "white",
             "startlinecolor": "#2a3f5f"
            },
            "baxis": {
             "endlinecolor": "#2a3f5f",
             "gridcolor": "white",
             "linecolor": "white",
             "minorgridcolor": "white",
             "startlinecolor": "#2a3f5f"
            },
            "type": "carpet"
           }
          ],
          "choropleth": [
           {
            "colorbar": {
             "outlinewidth": 0,
             "ticks": ""
            },
            "type": "choropleth"
           }
          ],
          "contour": [
           {
            "colorbar": {
             "outlinewidth": 0,
             "ticks": ""
            },
            "colorscale": [
             [
              0,
              "#0d0887"
             ],
             [
              0.1111111111111111,
              "#46039f"
             ],
             [
              0.2222222222222222,
              "#7201a8"
             ],
             [
              0.3333333333333333,
              "#9c179e"
             ],
             [
              0.4444444444444444,
              "#bd3786"
             ],
             [
              0.5555555555555556,
              "#d8576b"
             ],
             [
              0.6666666666666666,
              "#ed7953"
             ],
             [
              0.7777777777777778,
              "#fb9f3a"
             ],
             [
              0.8888888888888888,
              "#fdca26"
             ],
             [
              1,
              "#f0f921"
             ]
            ],
            "type": "contour"
           }
          ],
          "contourcarpet": [
           {
            "colorbar": {
             "outlinewidth": 0,
             "ticks": ""
            },
            "type": "contourcarpet"
           }
          ],
          "heatmap": [
           {
            "colorbar": {
             "outlinewidth": 0,
             "ticks": ""
            },
            "colorscale": [
             [
              0,
              "#0d0887"
             ],
             [
              0.1111111111111111,
              "#46039f"
             ],
             [
              0.2222222222222222,
              "#7201a8"
             ],
             [
              0.3333333333333333,
              "#9c179e"
             ],
             [
              0.4444444444444444,
              "#bd3786"
             ],
             [
              0.5555555555555556,
              "#d8576b"
             ],
             [
              0.6666666666666666,
              "#ed7953"
             ],
             [
              0.7777777777777778,
              "#fb9f3a"
             ],
             [
              0.8888888888888888,
              "#fdca26"
             ],
             [
              1,
              "#f0f921"
             ]
            ],
            "type": "heatmap"
           }
          ],
          "heatmapgl": [
           {
            "colorbar": {
             "outlinewidth": 0,
             "ticks": ""
            },
            "colorscale": [
             [
              0,
              "#0d0887"
             ],
             [
              0.1111111111111111,
              "#46039f"
             ],
             [
              0.2222222222222222,
              "#7201a8"
             ],
             [
              0.3333333333333333,
              "#9c179e"
             ],
             [
              0.4444444444444444,
              "#bd3786"
             ],
             [
              0.5555555555555556,
              "#d8576b"
             ],
             [
              0.6666666666666666,
              "#ed7953"
             ],
             [
              0.7777777777777778,
              "#fb9f3a"
             ],
             [
              0.8888888888888888,
              "#fdca26"
             ],
             [
              1,
              "#f0f921"
             ]
            ],
            "type": "heatmapgl"
           }
          ],
          "histogram": [
           {
            "marker": {
             "colorbar": {
              "outlinewidth": 0,
              "ticks": ""
             }
            },
            "type": "histogram"
           }
          ],
          "histogram2d": [
           {
            "colorbar": {
             "outlinewidth": 0,
             "ticks": ""
            },
            "colorscale": [
             [
              0,
              "#0d0887"
             ],
             [
              0.1111111111111111,
              "#46039f"
             ],
             [
              0.2222222222222222,
              "#7201a8"
             ],
             [
              0.3333333333333333,
              "#9c179e"
             ],
             [
              0.4444444444444444,
              "#bd3786"
             ],
             [
              0.5555555555555556,
              "#d8576b"
             ],
             [
              0.6666666666666666,
              "#ed7953"
             ],
             [
              0.7777777777777778,
              "#fb9f3a"
             ],
             [
              0.8888888888888888,
              "#fdca26"
             ],
             [
              1,
              "#f0f921"
             ]
            ],
            "type": "histogram2d"
           }
          ],
          "histogram2dcontour": [
           {
            "colorbar": {
             "outlinewidth": 0,
             "ticks": ""
            },
            "colorscale": [
             [
              0,
              "#0d0887"
             ],
             [
              0.1111111111111111,
              "#46039f"
             ],
             [
              0.2222222222222222,
              "#7201a8"
             ],
             [
              0.3333333333333333,
              "#9c179e"
             ],
             [
              0.4444444444444444,
              "#bd3786"
             ],
             [
              0.5555555555555556,
              "#d8576b"
             ],
             [
              0.6666666666666666,
              "#ed7953"
             ],
             [
              0.7777777777777778,
              "#fb9f3a"
             ],
             [
              0.8888888888888888,
              "#fdca26"
             ],
             [
              1,
              "#f0f921"
             ]
            ],
            "type": "histogram2dcontour"
           }
          ],
          "mesh3d": [
           {
            "colorbar": {
             "outlinewidth": 0,
             "ticks": ""
            },
            "type": "mesh3d"
           }
          ],
          "parcoords": [
           {
            "line": {
             "colorbar": {
              "outlinewidth": 0,
              "ticks": ""
             }
            },
            "type": "parcoords"
           }
          ],
          "pie": [
           {
            "automargin": true,
            "type": "pie"
           }
          ],
          "scatter": [
           {
            "marker": {
             "colorbar": {
              "outlinewidth": 0,
              "ticks": ""
             }
            },
            "type": "scatter"
           }
          ],
          "scatter3d": [
           {
            "line": {
             "colorbar": {
              "outlinewidth": 0,
              "ticks": ""
             }
            },
            "marker": {
             "colorbar": {
              "outlinewidth": 0,
              "ticks": ""
             }
            },
            "type": "scatter3d"
           }
          ],
          "scattercarpet": [
           {
            "marker": {
             "colorbar": {
              "outlinewidth": 0,
              "ticks": ""
             }
            },
            "type": "scattercarpet"
           }
          ],
          "scattergeo": [
           {
            "marker": {
             "colorbar": {
              "outlinewidth": 0,
              "ticks": ""
             }
            },
            "type": "scattergeo"
           }
          ],
          "scattergl": [
           {
            "marker": {
             "colorbar": {
              "outlinewidth": 0,
              "ticks": ""
             }
            },
            "type": "scattergl"
           }
          ],
          "scattermapbox": [
           {
            "marker": {
             "colorbar": {
              "outlinewidth": 0,
              "ticks": ""
             }
            },
            "type": "scattermapbox"
           }
          ],
          "scatterpolar": [
           {
            "marker": {
             "colorbar": {
              "outlinewidth": 0,
              "ticks": ""
             }
            },
            "type": "scatterpolar"
           }
          ],
          "scatterpolargl": [
           {
            "marker": {
             "colorbar": {
              "outlinewidth": 0,
              "ticks": ""
             }
            },
            "type": "scatterpolargl"
           }
          ],
          "scatterternary": [
           {
            "marker": {
             "colorbar": {
              "outlinewidth": 0,
              "ticks": ""
             }
            },
            "type": "scatterternary"
           }
          ],
          "surface": [
           {
            "colorbar": {
             "outlinewidth": 0,
             "ticks": ""
            },
            "colorscale": [
             [
              0,
              "#0d0887"
             ],
             [
              0.1111111111111111,
              "#46039f"
             ],
             [
              0.2222222222222222,
              "#7201a8"
             ],
             [
              0.3333333333333333,
              "#9c179e"
             ],
             [
              0.4444444444444444,
              "#bd3786"
             ],
             [
              0.5555555555555556,
              "#d8576b"
             ],
             [
              0.6666666666666666,
              "#ed7953"
             ],
             [
              0.7777777777777778,
              "#fb9f3a"
             ],
             [
              0.8888888888888888,
              "#fdca26"
             ],
             [
              1,
              "#f0f921"
             ]
            ],
            "type": "surface"
           }
          ],
          "table": [
           {
            "cells": {
             "fill": {
              "color": "#EBF0F8"
             },
             "line": {
              "color": "white"
             }
            },
            "header": {
             "fill": {
              "color": "#C8D4E3"
             },
             "line": {
              "color": "white"
             }
            },
            "type": "table"
           }
          ]
         },
         "layout": {
          "annotationdefaults": {
           "arrowcolor": "#2a3f5f",
           "arrowhead": 0,
           "arrowwidth": 1
          },
          "coloraxis": {
           "colorbar": {
            "outlinewidth": 0,
            "ticks": ""
           }
          },
          "colorscale": {
           "diverging": [
            [
             0,
             "#8e0152"
            ],
            [
             0.1,
             "#c51b7d"
            ],
            [
             0.2,
             "#de77ae"
            ],
            [
             0.3,
             "#f1b6da"
            ],
            [
             0.4,
             "#fde0ef"
            ],
            [
             0.5,
             "#f7f7f7"
            ],
            [
             0.6,
             "#e6f5d0"
            ],
            [
             0.7,
             "#b8e186"
            ],
            [
             0.8,
             "#7fbc41"
            ],
            [
             0.9,
             "#4d9221"
            ],
            [
             1,
             "#276419"
            ]
           ],
           "sequential": [
            [
             0,
             "#0d0887"
            ],
            [
             0.1111111111111111,
             "#46039f"
            ],
            [
             0.2222222222222222,
             "#7201a8"
            ],
            [
             0.3333333333333333,
             "#9c179e"
            ],
            [
             0.4444444444444444,
             "#bd3786"
            ],
            [
             0.5555555555555556,
             "#d8576b"
            ],
            [
             0.6666666666666666,
             "#ed7953"
            ],
            [
             0.7777777777777778,
             "#fb9f3a"
            ],
            [
             0.8888888888888888,
             "#fdca26"
            ],
            [
             1,
             "#f0f921"
            ]
           ],
           "sequentialminus": [
            [
             0,
             "#0d0887"
            ],
            [
             0.1111111111111111,
             "#46039f"
            ],
            [
             0.2222222222222222,
             "#7201a8"
            ],
            [
             0.3333333333333333,
             "#9c179e"
            ],
            [
             0.4444444444444444,
             "#bd3786"
            ],
            [
             0.5555555555555556,
             "#d8576b"
            ],
            [
             0.6666666666666666,
             "#ed7953"
            ],
            [
             0.7777777777777778,
             "#fb9f3a"
            ],
            [
             0.8888888888888888,
             "#fdca26"
            ],
            [
             1,
             "#f0f921"
            ]
           ]
          },
          "colorway": [
           "#636efa",
           "#EF553B",
           "#00cc96",
           "#ab63fa",
           "#FFA15A",
           "#19d3f3",
           "#FF6692",
           "#B6E880",
           "#FF97FF",
           "#FECB52"
          ],
          "font": {
           "color": "#2a3f5f"
          },
          "geo": {
           "bgcolor": "white",
           "lakecolor": "white",
           "landcolor": "#E5ECF6",
           "showlakes": true,
           "showland": true,
           "subunitcolor": "white"
          },
          "hoverlabel": {
           "align": "left"
          },
          "hovermode": "closest",
          "mapbox": {
           "style": "light"
          },
          "paper_bgcolor": "white",
          "plot_bgcolor": "#E5ECF6",
          "polar": {
           "angularaxis": {
            "gridcolor": "white",
            "linecolor": "white",
            "ticks": ""
           },
           "bgcolor": "#E5ECF6",
           "radialaxis": {
            "gridcolor": "white",
            "linecolor": "white",
            "ticks": ""
           }
          },
          "scene": {
           "xaxis": {
            "backgroundcolor": "#E5ECF6",
            "gridcolor": "white",
            "gridwidth": 2,
            "linecolor": "white",
            "showbackground": true,
            "ticks": "",
            "zerolinecolor": "white"
           },
           "yaxis": {
            "backgroundcolor": "#E5ECF6",
            "gridcolor": "white",
            "gridwidth": 2,
            "linecolor": "white",
            "showbackground": true,
            "ticks": "",
            "zerolinecolor": "white"
           },
           "zaxis": {
            "backgroundcolor": "#E5ECF6",
            "gridcolor": "white",
            "gridwidth": 2,
            "linecolor": "white",
            "showbackground": true,
            "ticks": "",
            "zerolinecolor": "white"
           }
          },
          "shapedefaults": {
           "line": {
            "color": "#2a3f5f"
           }
          },
          "ternary": {
           "aaxis": {
            "gridcolor": "white",
            "linecolor": "white",
            "ticks": ""
           },
           "baxis": {
            "gridcolor": "white",
            "linecolor": "white",
            "ticks": ""
           },
           "bgcolor": "#E5ECF6",
           "caxis": {
            "gridcolor": "white",
            "linecolor": "white",
            "ticks": ""
           }
          },
          "title": {
           "x": 0.05
          },
          "xaxis": {
           "automargin": true,
           "gridcolor": "white",
           "linecolor": "white",
           "ticks": "",
           "title": {
            "standoff": 15
           },
           "zerolinecolor": "white",
           "zerolinewidth": 2
          },
          "yaxis": {
           "automargin": true,
           "gridcolor": "white",
           "linecolor": "white",
           "ticks": "",
           "title": {
            "standoff": 15
           },
           "zerolinecolor": "white",
           "zerolinewidth": 2
          }
         }
        }
       }
      },
      "text/html": [
       "<div>\n",
       "        \n",
       "        \n",
       "            <div id=\"4b99fe4c-1fa6-49de-87a1-215a47004033\" class=\"plotly-graph-div\" style=\"height:525px; width:100%;\"></div>\n",
       "            <script type=\"text/javascript\">\n",
       "                require([\"plotly\"], function(Plotly) {\n",
       "                    window.PLOTLYENV=window.PLOTLYENV || {};\n",
       "                    \n",
       "                if (document.getElementById(\"4b99fe4c-1fa6-49de-87a1-215a47004033\")) {\n",
       "                    Plotly.newPlot(\n",
       "                        '4b99fe4c-1fa6-49de-87a1-215a47004033',\n",
       "                        [{\"name\": \"Confirm\\u00e9s/France\", \"type\": \"scatter\", \"x\": [\"2020-02-24\", \"2020-02-27\", \"2020-02-16\", \"2020-02-16\", \"2020-03-10\", \"2020-02-12\", \"2020-02-12\", \"2020-03-07\", \"2020-03-06\", \"2020-02-01\", \"2020-02-01\", \"2020-02-07\", \"2020-02-07\", \"2020-03-01\", \"2020-02-01\", \"2020-02-01\", \"2020-01-31\", \"2020-02-16\", \"2020-02-16\", \"2020-02-12\", \"2020-02-12\", \"2020-03-04\", \"2020-03-05\", \"2020-02-01\", \"2020-02-07\", \"2020-02-10\", \"2020-02-10\", \"2020-02-24\", \"2020-02-24\", \"2020-02-28\", \"2020-02-29\", \"2020-02-16\", \"2020-02-16\", \"2020-02-16\", \"2020-02-16\", \"2020-03-03\", \"2020-03-02\", \"2020-02-01\", \"2020-03-09\", \"2020-03-08\"], \"y\": [13.0, 15.0, 9.0, 9.0, 382.0, 9.0, 9.0, 206.0, 163.0, 2.0, 2.0, 3.0, 3.0, 36.0, 2.0, 2.0, 2.0, 9.0, 9.0, 9.0, 9.0, 85.0, 115.0, 2.0, 3.0, 8.0, 8.0, 13.0, 13.0, 20.0, 23.0, 9.0, 9.0, 9.0, 9.0, 51.0, 40.0, 2.0, 321.0, 273.0]}, {\"name\": \"Confirm\\u00e9s/Allemagne\", \"type\": \"scatter\", \"x\": [\"2020-02-26\", \"2020-02-27\", \"2020-02-15\", \"2020-02-15\", \"2020-03-10\", \"2020-03-11\", \"2020-02-09\", \"2020-02-09\", \"2020-03-07\", \"2020-03-06\", \"2020-02-01\", \"2020-02-01\", \"2020-02-01\", \"2020-02-09\", \"2020-03-01\", \"2020-02-01\", \"2020-02-01\", \"2020-02-15\", \"2020-02-15\", \"2020-03-17\", \"2020-03-16\", \"2020-02-15\", \"2020-02-09\", \"2020-03-04\", \"2020-03-05\", \"2020-02-01\", \"2020-02-01\", \"2020-03-11\", \"2020-03-12\", \"2020-02-09\", \"2020-02-09\", \"2020-02-25\", \"2020-02-15\", \"2020-03-19\", \"2020-03-18\", \"2020-02-28\", \"2020-02-29\", \"2020-03-14\", \"2020-03-15\", \"2020-02-15\", \"2020-02-15\", \"2020-02-15\", \"2020-02-15\", \"2020-03-20\", \"2020-03-03\", \"2020-03-02\", \"2020-02-01\", \"2020-03-09\", \"2020-03-08\"], \"y\": [13.0, 15.0, 2.0, 2.0, 1695.0, 2277.0, 2.0, 2.0, 500.0, 400.0, 1.0, 1.0, 1.0, 2.0, 84.0, 1.0, 1.0, 2.0, 2.0, 11748.0, 9942.0, 2.0, 2.0, 222.0, 259.0, 1.0, 1.0, 5232.0, 2277.0, 2.0, 2.0, 6.0, 2.0, 17963.0, 13910.0, 32.0, 45.0, 6391.0, 7798.0, 2.0, 2.0, 2.0, 2.0, 20410.0, 165.0, 120.0, 1.0, 1073.0, 673.0]}],\n",
       "                        {\"template\": {\"data\": {\"bar\": [{\"error_x\": {\"color\": \"#2a3f5f\"}, \"error_y\": {\"color\": \"#2a3f5f\"}, \"marker\": {\"line\": {\"color\": \"#E5ECF6\", \"width\": 0.5}}, \"type\": \"bar\"}], \"barpolar\": [{\"marker\": {\"line\": {\"color\": \"#E5ECF6\", \"width\": 0.5}}, \"type\": \"barpolar\"}], \"carpet\": [{\"aaxis\": {\"endlinecolor\": \"#2a3f5f\", \"gridcolor\": \"white\", \"linecolor\": \"white\", \"minorgridcolor\": \"white\", \"startlinecolor\": \"#2a3f5f\"}, \"baxis\": {\"endlinecolor\": \"#2a3f5f\", \"gridcolor\": \"white\", \"linecolor\": \"white\", \"minorgridcolor\": \"white\", \"startlinecolor\": \"#2a3f5f\"}, \"type\": \"carpet\"}], \"choropleth\": [{\"colorbar\": {\"outlinewidth\": 0, \"ticks\": \"\"}, \"type\": \"choropleth\"}], \"contour\": [{\"colorbar\": {\"outlinewidth\": 0, \"ticks\": \"\"}, \"colorscale\": [[0.0, \"#0d0887\"], [0.1111111111111111, \"#46039f\"], [0.2222222222222222, \"#7201a8\"], [0.3333333333333333, \"#9c179e\"], [0.4444444444444444, \"#bd3786\"], [0.5555555555555556, \"#d8576b\"], [0.6666666666666666, \"#ed7953\"], [0.7777777777777778, \"#fb9f3a\"], [0.8888888888888888, \"#fdca26\"], [1.0, \"#f0f921\"]], \"type\": \"contour\"}], \"contourcarpet\": [{\"colorbar\": {\"outlinewidth\": 0, \"ticks\": \"\"}, \"type\": \"contourcarpet\"}], \"heatmap\": [{\"colorbar\": {\"outlinewidth\": 0, \"ticks\": \"\"}, \"colorscale\": [[0.0, \"#0d0887\"], [0.1111111111111111, \"#46039f\"], [0.2222222222222222, \"#7201a8\"], [0.3333333333333333, \"#9c179e\"], [0.4444444444444444, \"#bd3786\"], [0.5555555555555556, \"#d8576b\"], [0.6666666666666666, \"#ed7953\"], [0.7777777777777778, \"#fb9f3a\"], [0.8888888888888888, \"#fdca26\"], [1.0, \"#f0f921\"]], \"type\": \"heatmap\"}], \"heatmapgl\": [{\"colorbar\": {\"outlinewidth\": 0, \"ticks\": \"\"}, \"colorscale\": [[0.0, \"#0d0887\"], [0.1111111111111111, \"#46039f\"], [0.2222222222222222, \"#7201a8\"], [0.3333333333333333, \"#9c179e\"], [0.4444444444444444, \"#bd3786\"], [0.5555555555555556, \"#d8576b\"], [0.6666666666666666, \"#ed7953\"], [0.7777777777777778, \"#fb9f3a\"], [0.8888888888888888, \"#fdca26\"], [1.0, \"#f0f921\"]], \"type\": \"heatmapgl\"}], \"histogram\": [{\"marker\": {\"colorbar\": {\"outlinewidth\": 0, \"ticks\": \"\"}}, \"type\": \"histogram\"}], \"histogram2d\": [{\"colorbar\": {\"outlinewidth\": 0, \"ticks\": \"\"}, \"colorscale\": [[0.0, \"#0d0887\"], [0.1111111111111111, \"#46039f\"], [0.2222222222222222, \"#7201a8\"], [0.3333333333333333, \"#9c179e\"], [0.4444444444444444, \"#bd3786\"], [0.5555555555555556, \"#d8576b\"], [0.6666666666666666, \"#ed7953\"], [0.7777777777777778, \"#fb9f3a\"], [0.8888888888888888, \"#fdca26\"], [1.0, \"#f0f921\"]], \"type\": \"histogram2d\"}], \"histogram2dcontour\": [{\"colorbar\": {\"outlinewidth\": 0, \"ticks\": \"\"}, \"colorscale\": [[0.0, \"#0d0887\"], [0.1111111111111111, \"#46039f\"], [0.2222222222222222, \"#7201a8\"], [0.3333333333333333, \"#9c179e\"], [0.4444444444444444, \"#bd3786\"], [0.5555555555555556, \"#d8576b\"], [0.6666666666666666, \"#ed7953\"], [0.7777777777777778, \"#fb9f3a\"], [0.8888888888888888, \"#fdca26\"], [1.0, \"#f0f921\"]], \"type\": \"histogram2dcontour\"}], \"mesh3d\": [{\"colorbar\": {\"outlinewidth\": 0, \"ticks\": \"\"}, \"type\": \"mesh3d\"}], \"parcoords\": [{\"line\": {\"colorbar\": {\"outlinewidth\": 0, \"ticks\": \"\"}}, \"type\": \"parcoords\"}], \"pie\": [{\"automargin\": true, \"type\": \"pie\"}], \"scatter\": [{\"marker\": {\"colorbar\": {\"outlinewidth\": 0, \"ticks\": \"\"}}, \"type\": \"scatter\"}], \"scatter3d\": [{\"line\": {\"colorbar\": {\"outlinewidth\": 0, \"ticks\": \"\"}}, \"marker\": {\"colorbar\": {\"outlinewidth\": 0, \"ticks\": \"\"}}, \"type\": \"scatter3d\"}], \"scattercarpet\": [{\"marker\": {\"colorbar\": {\"outlinewidth\": 0, \"ticks\": \"\"}}, \"type\": \"scattercarpet\"}], \"scattergeo\": [{\"marker\": {\"colorbar\": {\"outlinewidth\": 0, \"ticks\": \"\"}}, \"type\": \"scattergeo\"}], \"scattergl\": [{\"marker\": {\"colorbar\": {\"outlinewidth\": 0, \"ticks\": \"\"}}, \"type\": \"scattergl\"}], \"scattermapbox\": [{\"marker\": {\"colorbar\": {\"outlinewidth\": 0, \"ticks\": \"\"}}, \"type\": \"scattermapbox\"}], \"scatterpolar\": [{\"marker\": {\"colorbar\": {\"outlinewidth\": 0, \"ticks\": \"\"}}, \"type\": \"scatterpolar\"}], \"scatterpolargl\": [{\"marker\": {\"colorbar\": {\"outlinewidth\": 0, \"ticks\": \"\"}}, \"type\": \"scatterpolargl\"}], \"scatterternary\": [{\"marker\": {\"colorbar\": {\"outlinewidth\": 0, \"ticks\": \"\"}}, \"type\": \"scatterternary\"}], \"surface\": [{\"colorbar\": {\"outlinewidth\": 0, \"ticks\": \"\"}, \"colorscale\": [[0.0, \"#0d0887\"], [0.1111111111111111, \"#46039f\"], [0.2222222222222222, \"#7201a8\"], [0.3333333333333333, \"#9c179e\"], [0.4444444444444444, \"#bd3786\"], [0.5555555555555556, \"#d8576b\"], [0.6666666666666666, \"#ed7953\"], [0.7777777777777778, \"#fb9f3a\"], [0.8888888888888888, \"#fdca26\"], [1.0, \"#f0f921\"]], \"type\": \"surface\"}], \"table\": [{\"cells\": {\"fill\": {\"color\": \"#EBF0F8\"}, \"line\": {\"color\": \"white\"}}, \"header\": {\"fill\": {\"color\": \"#C8D4E3\"}, \"line\": {\"color\": \"white\"}}, \"type\": \"table\"}]}, \"layout\": {\"annotationdefaults\": {\"arrowcolor\": \"#2a3f5f\", \"arrowhead\": 0, \"arrowwidth\": 1}, \"coloraxis\": {\"colorbar\": {\"outlinewidth\": 0, \"ticks\": \"\"}}, \"colorscale\": {\"diverging\": [[0, \"#8e0152\"], [0.1, \"#c51b7d\"], [0.2, \"#de77ae\"], [0.3, \"#f1b6da\"], [0.4, \"#fde0ef\"], [0.5, \"#f7f7f7\"], [0.6, \"#e6f5d0\"], [0.7, \"#b8e186\"], [0.8, \"#7fbc41\"], [0.9, \"#4d9221\"], [1, \"#276419\"]], \"sequential\": [[0.0, \"#0d0887\"], [0.1111111111111111, \"#46039f\"], [0.2222222222222222, \"#7201a8\"], [0.3333333333333333, \"#9c179e\"], [0.4444444444444444, \"#bd3786\"], [0.5555555555555556, \"#d8576b\"], [0.6666666666666666, \"#ed7953\"], [0.7777777777777778, \"#fb9f3a\"], [0.8888888888888888, \"#fdca26\"], [1.0, \"#f0f921\"]], \"sequentialminus\": [[0.0, \"#0d0887\"], [0.1111111111111111, \"#46039f\"], [0.2222222222222222, \"#7201a8\"], [0.3333333333333333, \"#9c179e\"], [0.4444444444444444, \"#bd3786\"], [0.5555555555555556, \"#d8576b\"], [0.6666666666666666, \"#ed7953\"], [0.7777777777777778, \"#fb9f3a\"], [0.8888888888888888, \"#fdca26\"], [1.0, \"#f0f921\"]]}, \"colorway\": [\"#636efa\", \"#EF553B\", \"#00cc96\", \"#ab63fa\", \"#FFA15A\", \"#19d3f3\", \"#FF6692\", \"#B6E880\", \"#FF97FF\", \"#FECB52\"], \"font\": {\"color\": \"#2a3f5f\"}, \"geo\": {\"bgcolor\": \"white\", \"lakecolor\": \"white\", \"landcolor\": \"#E5ECF6\", \"showlakes\": true, \"showland\": true, \"subunitcolor\": \"white\"}, \"hoverlabel\": {\"align\": \"left\"}, \"hovermode\": \"closest\", \"mapbox\": {\"style\": \"light\"}, \"paper_bgcolor\": \"white\", \"plot_bgcolor\": \"#E5ECF6\", \"polar\": {\"angularaxis\": {\"gridcolor\": \"white\", \"linecolor\": \"white\", \"ticks\": \"\"}, \"bgcolor\": \"#E5ECF6\", \"radialaxis\": {\"gridcolor\": \"white\", \"linecolor\": \"white\", \"ticks\": \"\"}}, \"scene\": {\"xaxis\": {\"backgroundcolor\": \"#E5ECF6\", \"gridcolor\": \"white\", \"gridwidth\": 2, \"linecolor\": \"white\", \"showbackground\": true, \"ticks\": \"\", \"zerolinecolor\": \"white\"}, \"yaxis\": {\"backgroundcolor\": \"#E5ECF6\", \"gridcolor\": \"white\", \"gridwidth\": 2, \"linecolor\": \"white\", \"showbackground\": true, \"ticks\": \"\", \"zerolinecolor\": \"white\"}, \"zaxis\": {\"backgroundcolor\": \"#E5ECF6\", \"gridcolor\": \"white\", \"gridwidth\": 2, \"linecolor\": \"white\", \"showbackground\": true, \"ticks\": \"\", \"zerolinecolor\": \"white\"}}, \"shapedefaults\": {\"line\": {\"color\": \"#2a3f5f\"}}, \"ternary\": {\"aaxis\": {\"gridcolor\": \"white\", \"linecolor\": \"white\", \"ticks\": \"\"}, \"baxis\": {\"gridcolor\": \"white\", \"linecolor\": \"white\", \"ticks\": \"\"}, \"bgcolor\": \"#E5ECF6\", \"caxis\": {\"gridcolor\": \"white\", \"linecolor\": \"white\", \"ticks\": \"\"}}, \"title\": {\"x\": 0.05}, \"xaxis\": {\"automargin\": true, \"gridcolor\": \"white\", \"linecolor\": \"white\", \"ticks\": \"\", \"title\": {\"standoff\": 15}, \"zerolinecolor\": \"white\", \"zerolinewidth\": 2}, \"yaxis\": {\"automargin\": true, \"gridcolor\": \"white\", \"linecolor\": \"white\", \"ticks\": \"\", \"title\": {\"standoff\": 15}, \"zerolinecolor\": \"white\", \"zerolinewidth\": 2}}}},\n",
       "                        {\"responsive\": true}\n",
       "                    ).then(function(){\n",
       "                            \n",
       "var gd = document.getElementById('4b99fe4c-1fa6-49de-87a1-215a47004033');\n",
       "var x = new MutationObserver(function (mutations, observer) {{\n",
       "        var display = window.getComputedStyle(gd).display;\n",
       "        if (!display || display === 'none') {{\n",
       "            console.log([gd, 'removed!']);\n",
       "            Plotly.purge(gd);\n",
       "            observer.disconnect();\n",
       "        }}\n",
       "}});\n",
       "\n",
       "// Listen for the removal of the full notebook cells\n",
       "var notebookContainer = gd.closest('#notebook-container');\n",
       "if (notebookContainer) {{\n",
       "    x.observe(notebookContainer, {childList: true});\n",
       "}}\n",
       "\n",
       "// Listen for the clearing of the current output cell\n",
       "var outputEl = gd.closest('.output');\n",
       "if (outputEl) {{\n",
       "    x.observe(outputEl, {childList: true});\n",
       "}}\n",
       "\n",
       "                        })\n",
       "                };\n",
       "                });\n",
       "            </script>\n",
       "        </div>"
      ]
     },
     "metadata": {},
     "output_type": "display_data"
    }
   ],
   "source": [
    "py.iplot(data)"
   ]
  },
  {
   "cell_type": "code",
   "execution_count": 263,
   "metadata": {},
   "outputs": [
    {
     "data": {
      "text/plain": [
       "[Scatter({\n",
       "     'name': 'Confirmés/France',\n",
       "     'x': array([datetime.date(2020, 2, 24), datetime.date(2020, 2, 27),\n",
       "                 datetime.date(2020, 2, 16), datetime.date(2020, 2, 16),\n",
       "                 datetime.date(2020, 3, 10), datetime.date(2020, 2, 12),\n",
       "                 datetime.date(2020, 2, 12), datetime.date(2020, 3, 7),\n",
       "                 datetime.date(2020, 3, 6), datetime.date(2020, 2, 1),\n",
       "                 datetime.date(2020, 2, 1), datetime.date(2020, 2, 7),\n",
       "                 datetime.date(2020, 2, 7), datetime.date(2020, 3, 1),\n",
       "                 datetime.date(2020, 2, 1), datetime.date(2020, 2, 1),\n",
       "                 datetime.date(2020, 1, 31), datetime.date(2020, 2, 16),\n",
       "                 datetime.date(2020, 2, 16), datetime.date(2020, 2, 12),\n",
       "                 datetime.date(2020, 2, 12), datetime.date(2020, 3, 4),\n",
       "                 datetime.date(2020, 3, 5), datetime.date(2020, 2, 1),\n",
       "                 datetime.date(2020, 2, 7), datetime.date(2020, 2, 10),\n",
       "                 datetime.date(2020, 2, 10), datetime.date(2020, 2, 24),\n",
       "                 datetime.date(2020, 2, 24), datetime.date(2020, 2, 28),\n",
       "                 datetime.date(2020, 2, 29), datetime.date(2020, 2, 16),\n",
       "                 datetime.date(2020, 2, 16), datetime.date(2020, 2, 16),\n",
       "                 datetime.date(2020, 2, 16), datetime.date(2020, 3, 3),\n",
       "                 datetime.date(2020, 3, 2), datetime.date(2020, 2, 1),\n",
       "                 datetime.date(2020, 3, 9), datetime.date(2020, 3, 8)], dtype=object),\n",
       "     'y': array([ 13.,  15.,   9.,   9., 382.,   9.,   9., 206., 163.,   2.,   2.,   3.,\n",
       "                   3.,  36.,   2.,   2.,   2.,   9.,   9.,   9.,   9.,  85., 115.,   2.,\n",
       "                   3.,   8.,   8.,  13.,  13.,  20.,  23.,   9.,   9.,   9.,   9.,  51.,\n",
       "                  40.,   2., 321., 273.])\n",
       " }),\n",
       " Scatter({\n",
       "     'name': 'Confirmés/Allemagne',\n",
       "     'x': array([datetime.date(2020, 2, 26), datetime.date(2020, 2, 27),\n",
       "                 datetime.date(2020, 2, 15), datetime.date(2020, 2, 15),\n",
       "                 datetime.date(2020, 3, 10), datetime.date(2020, 3, 11),\n",
       "                 datetime.date(2020, 2, 9), datetime.date(2020, 2, 9),\n",
       "                 datetime.date(2020, 3, 7), datetime.date(2020, 3, 6),\n",
       "                 datetime.date(2020, 2, 1), datetime.date(2020, 2, 1),\n",
       "                 datetime.date(2020, 2, 1), datetime.date(2020, 2, 9),\n",
       "                 datetime.date(2020, 3, 1), datetime.date(2020, 2, 1),\n",
       "                 datetime.date(2020, 2, 1), datetime.date(2020, 2, 15),\n",
       "                 datetime.date(2020, 2, 15), datetime.date(2020, 3, 17),\n",
       "                 datetime.date(2020, 3, 16), datetime.date(2020, 2, 15),\n",
       "                 datetime.date(2020, 2, 9), datetime.date(2020, 3, 4),\n",
       "                 datetime.date(2020, 3, 5), datetime.date(2020, 2, 1),\n",
       "                 datetime.date(2020, 2, 1), datetime.date(2020, 3, 11),\n",
       "                 datetime.date(2020, 3, 12), datetime.date(2020, 2, 9),\n",
       "                 datetime.date(2020, 2, 9), datetime.date(2020, 2, 25),\n",
       "                 datetime.date(2020, 2, 15), datetime.date(2020, 3, 19),\n",
       "                 datetime.date(2020, 3, 18), datetime.date(2020, 2, 28),\n",
       "                 datetime.date(2020, 2, 29), datetime.date(2020, 3, 14),\n",
       "                 datetime.date(2020, 3, 15), datetime.date(2020, 2, 15),\n",
       "                 datetime.date(2020, 2, 15), datetime.date(2020, 2, 15),\n",
       "                 datetime.date(2020, 2, 15), datetime.date(2020, 3, 20),\n",
       "                 datetime.date(2020, 3, 3), datetime.date(2020, 3, 2),\n",
       "                 datetime.date(2020, 2, 1), datetime.date(2020, 3, 9),\n",
       "                 datetime.date(2020, 3, 8)], dtype=object),\n",
       "     'y': array([1.3000e+01, 1.5000e+01, 2.0000e+00, 2.0000e+00, 1.6950e+03, 2.2770e+03,\n",
       "                 2.0000e+00, 2.0000e+00, 5.0000e+02, 4.0000e+02, 1.0000e+00, 1.0000e+00,\n",
       "                 1.0000e+00, 2.0000e+00, 8.4000e+01, 1.0000e+00, 1.0000e+00, 2.0000e+00,\n",
       "                 2.0000e+00, 1.1748e+04, 9.9420e+03, 2.0000e+00, 2.0000e+00, 2.2200e+02,\n",
       "                 2.5900e+02, 1.0000e+00, 1.0000e+00, 5.2320e+03, 2.2770e+03, 2.0000e+00,\n",
       "                 2.0000e+00, 6.0000e+00, 2.0000e+00, 1.7963e+04, 1.3910e+04, 3.2000e+01,\n",
       "                 4.5000e+01, 6.3910e+03, 7.7980e+03, 2.0000e+00, 2.0000e+00, 2.0000e+00,\n",
       "                 2.0000e+00, 2.0410e+04, 1.6500e+02, 1.2000e+02, 1.0000e+00, 1.0730e+03,\n",
       "                 6.7300e+02])\n",
       " })]"
      ]
     },
     "execution_count": 263,
     "metadata": {},
     "output_type": "execute_result"
    }
   ],
   "source": [
    "data"
   ]
  },
  {
   "cell_type": "code",
   "execution_count": 82,
   "metadata": {},
   "outputs": [
    {
     "ename": "SyntaxError",
     "evalue": "invalid syntax (<ipython-input-82-2574e76f8842>, line 1)",
     "output_type": "error",
     "traceback": [
      "\u001b[0;36m  File \u001b[0;32m\"<ipython-input-82-2574e76f8842>\"\u001b[0;36m, line \u001b[0;32m1\u001b[0m\n\u001b[0;31m    réfléchir à une visualisation\u001b[0m\n\u001b[0m              ^\u001b[0m\n\u001b[0;31mSyntaxError\u001b[0m\u001b[0;31m:\u001b[0m invalid syntax\n"
     ]
    }
   ],
   "source": [
    "réfléchir à une visualisation\n",
    "est ce qu'on peut trouver une info sur le nb de voyageurs dans les aéroports ?\n",
    "Démographie\n",
    "Modélisation de propogation d'épidémie en série chronologique (packages R)"
   ]
  },
  {
   "cell_type": "code",
   "execution_count": 41,
   "metadata": {},
   "outputs": [],
   "source": [
    "import yaml\n",
    "\n",
    "ENV_FILE='../env.yaml'\n",
    "with open(ENV_FILE) as f:\n",
    "    params = yaml.load(f, Loader=yaml.FullLoader)"
   ]
  },
  {
   "cell_type": "code",
   "execution_count": 42,
   "metadata": {},
   "outputs": [
    {
     "data": {
      "text/plain": [
       "{'directories': {'processed': '../data/processed/', 'raw': '../data/raw/'},\n",
       " 'files': {'all': 'all_data.csv'}}"
      ]
     },
     "execution_count": 42,
     "metadata": {},
     "output_type": "execute_result"
    }
   ],
   "source": [
    "params"
   ]
  },
  {
   "cell_type": "code",
   "execution_count": null,
   "metadata": {},
   "outputs": [],
   "source": []
  }
 ],
 "metadata": {
  "kernelspec": {
   "display_name": "Projet Corona (Python)",
   "language": "python",
   "name": "corona"
  },
  "language_info": {
   "codemirror_mode": {
    "name": "ipython",
    "version": 3
   },
   "file_extension": ".py",
   "mimetype": "text/x-python",
   "name": "python",
   "nbconvert_exporter": "python",
   "pygments_lexer": "ipython3",
   "version": "3.8.1"
  }
 },
 "nbformat": 4,
 "nbformat_minor": 4
}
