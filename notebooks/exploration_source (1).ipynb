{
 "cells": [
  {
   "cell_type": "markdown",
   "metadata": {},
   "source": [
    "# Exploration de la base de données"
   ]
  },
  {
   "cell_type": "code",
   "execution_count": 1,
   "metadata": {},
   "outputs": [],
   "source": [
    "#!conda install pandas #dans la console\n",
    "from datetime import date, timedelta\n",
    "import os\n",
    "\n",
    "import pandas as pd"
   ]
  },
  {
   "cell_type": "code",
   "execution_count": 5,
   "metadata": {},
   "outputs": [],
   "source": [
    "# Racine des fichiers quotidiens\n",
    "BASE_URL = 'https://raw.githubusercontent.com/CSSEGISandData/COVID-19/master/csse_covid_19_data/csse_covid_19_daily_reports/{}.csv'\n",
    "\n",
    "# Dates de diponibilité des fichiers\n",
    "START_DATE = date(2020, 1, 22)\n",
    "END_DATE = date(2020, 3, 13)\n",
    "\n",
    "#Répertoire de sauvegarde des fichiers bruts\n",
    "RAWFILES_DIR = '../data/raw/'\n",
    "PROCESSED_DIR = '../data/processed/'"
   ]
  },
  {
   "cell_type": "markdown",
   "metadata": {},
   "source": [
    "## Boucle de récupération des fichiers"
   ]
  },
  {
   "cell_type": "code",
   "execution_count": 6,
   "metadata": {},
   "outputs": [],
   "source": [
    "delta = END_DATE - START_DATE       # as timedelta\n",
    "\n",
    "for i in range(delta.days + 1):\n",
    "    day = START_DATE + timedelta(days=i)\n",
    "    day_label = day.strftime(\"%m-%d-%Y\")\n",
    "    \n",
    "    virus_df = pd.read_csv(BASE_URL.format(day_label), sep=\",\", parse_dates=[\"Last Update\"])\n",
    "    virus_df.to_csv(os.path.join(RAWFILES_DIR, day_label + '.csv'), index=False)\n",
    "    \n",
    "    #print(day_label)"
   ]
  },
  {
   "cell_type": "code",
   "execution_count": 7,
   "metadata": {},
   "outputs": [
    {
     "data": {
      "text/plain": [
       "Province/State            object\n",
       "Country/Region            object\n",
       "Last Update       datetime64[ns]\n",
       "Confirmed                  int64\n",
       "Deaths                     int64\n",
       "Recovered                  int64\n",
       "Latitude                 float64\n",
       "Longitude                float64\n",
       "dtype: object"
      ]
     },
     "execution_count": 7,
     "metadata": {},
     "output_type": "execute_result"
    }
   ],
   "source": [
    "virus_df.dtypes"
   ]
  },
  {
   "cell_type": "markdown",
   "metadata": {},
   "source": [
    "## Constitution de la table de référence lat/long"
   ]
  },
  {
   "cell_type": "code",
   "execution_count": 8,
   "metadata": {},
   "outputs": [],
   "source": [
    "import glob\n",
    "\n",
    "df_list = []\n",
    "\n",
    "# Lecture des fichiers récupérés et sélection de ceux qui ont une lat / long\n",
    "for file in glob.glob(os.path.join(RAWFILES_DIR, '*.csv')):\n",
    "    virus_df = pd.read_csv(file, sep=',')\n",
    "    if 'Latitude' in virus_df.columns and 'Longitude' in virus_df.columns:\n",
    "        df_list.append(virus_df)\n",
    "\n",
    "all_df = pd.concat(df_list)\n",
    "\n",
    "# Table de référence pour les lat / long\n",
    "(all_df[[\"Province/State\", \"Country/Region\", \"Latitude\", \"Longitude\"]]\n",
    " .drop_duplicates(subset=[\"Province/State\", \"Country/Region\"])\n",
    " .sort_values(by=[\"Country/Region\", \"Province/State\"])\n",
    " .to_csv(os.path.join(PROCESSED_DIR, \"lat_long_table.csv\"), index=False)\n",
    ")"
   ]
  },
  {
   "cell_type": "code",
   "execution_count": 9,
   "metadata": {},
   "outputs": [
    {
     "data": {
      "text/plain": [
       "(523, 4)"
      ]
     },
     "execution_count": 9,
     "metadata": {},
     "output_type": "execute_result"
    }
   ],
   "source": [
    "(all_df[[\"Province/State\", \"Country/Region\", \"Latitude\", \"Longitude\"]]\n",
    " .drop_duplicates()\n",
    " .shape\n",
    ")"
   ]
  },
  {
   "cell_type": "code",
   "execution_count": 10,
   "metadata": {},
   "outputs": [
    {
     "data": {
      "text/plain": [
       "(426, 4)"
      ]
     },
     "execution_count": 10,
     "metadata": {},
     "output_type": "execute_result"
    }
   ],
   "source": [
    "(all_df[[\"Province/State\", \"Country/Region\", \"Latitude\", \"Longitude\"]]\n",
    " .drop_duplicates()\n",
    " .drop_duplicates(subset=[\"Province/State\", \"Country/Region\"])\n",
    " .shape\n",
    ")\n",
    "# 3 villes qui ont des latitudes-longitudes différentes"
   ]
  },
  {
   "cell_type": "code",
   "execution_count": 11,
   "metadata": {},
   "outputs": [
    {
     "data": {
      "text/html": [
       "<div>\n",
       "<style scoped>\n",
       "    .dataframe tbody tr th:only-of-type {\n",
       "        vertical-align: middle;\n",
       "    }\n",
       "\n",
       "    .dataframe tbody tr th {\n",
       "        vertical-align: top;\n",
       "    }\n",
       "\n",
       "    .dataframe thead th {\n",
       "        text-align: right;\n",
       "    }\n",
       "</style>\n",
       "<table border=\"1\" class=\"dataframe\">\n",
       "  <thead>\n",
       "    <tr style=\"text-align: right;\">\n",
       "      <th></th>\n",
       "      <th>Province/State</th>\n",
       "      <th>Country/Region</th>\n",
       "      <th>Latitude</th>\n",
       "      <th>Longitude</th>\n",
       "    </tr>\n",
       "  </thead>\n",
       "  <tbody>\n",
       "    <tr>\n",
       "      <th>2</th>\n",
       "      <td>NaN</td>\n",
       "      <td>Italy</td>\n",
       "      <td>43.000000</td>\n",
       "      <td>12.000000</td>\n",
       "    </tr>\n",
       "    <tr>\n",
       "      <th>8</th>\n",
       "      <td>NaN</td>\n",
       "      <td>Iran</td>\n",
       "      <td>32.000000</td>\n",
       "      <td>53.000000</td>\n",
       "    </tr>\n",
       "    <tr>\n",
       "      <th>20</th>\n",
       "      <td>NaN</td>\n",
       "      <td>Japan</td>\n",
       "      <td>36.000000</td>\n",
       "      <td>138.000000</td>\n",
       "    </tr>\n",
       "    <tr>\n",
       "      <th>29</th>\n",
       "      <td>NaN</td>\n",
       "      <td>Germany</td>\n",
       "      <td>51.000000</td>\n",
       "      <td>9.000000</td>\n",
       "    </tr>\n",
       "    <tr>\n",
       "      <th>31</th>\n",
       "      <td>NaN</td>\n",
       "      <td>Singapore</td>\n",
       "      <td>1.283300</td>\n",
       "      <td>103.833300</td>\n",
       "    </tr>\n",
       "    <tr>\n",
       "      <th>...</th>\n",
       "      <td>...</td>\n",
       "      <td>...</td>\n",
       "      <td>...</td>\n",
       "      <td>...</td>\n",
       "    </tr>\n",
       "    <tr>\n",
       "      <th>218</th>\n",
       "      <td>Washington</td>\n",
       "      <td>US</td>\n",
       "      <td>47.400902</td>\n",
       "      <td>-121.490494</td>\n",
       "    </tr>\n",
       "    <tr>\n",
       "      <th>219</th>\n",
       "      <td>West Virginia</td>\n",
       "      <td>US</td>\n",
       "      <td>38.491226</td>\n",
       "      <td>-80.954453</td>\n",
       "    </tr>\n",
       "    <tr>\n",
       "      <th>220</th>\n",
       "      <td>Wisconsin</td>\n",
       "      <td>US</td>\n",
       "      <td>44.268543</td>\n",
       "      <td>-89.616508</td>\n",
       "    </tr>\n",
       "    <tr>\n",
       "      <th>221</th>\n",
       "      <td>Wyoming</td>\n",
       "      <td>US</td>\n",
       "      <td>42.755966</td>\n",
       "      <td>-107.302490</td>\n",
       "    </tr>\n",
       "    <tr>\n",
       "      <th>222</th>\n",
       "      <td>NaN</td>\n",
       "      <td>Vietnam</td>\n",
       "      <td>14.058300</td>\n",
       "      <td>108.277200</td>\n",
       "    </tr>\n",
       "  </tbody>\n",
       "</table>\n",
       "<p>194 rows × 4 columns</p>\n",
       "</div>"
      ],
      "text/plain": [
       "    Province/State Country/Region   Latitude   Longitude\n",
       "2              NaN          Italy  43.000000   12.000000\n",
       "8              NaN           Iran  32.000000   53.000000\n",
       "20             NaN          Japan  36.000000  138.000000\n",
       "29             NaN        Germany  51.000000    9.000000\n",
       "31             NaN      Singapore   1.283300  103.833300\n",
       "..             ...            ...        ...         ...\n",
       "218     Washington             US  47.400902 -121.490494\n",
       "219  West Virginia             US  38.491226  -80.954453\n",
       "220      Wisconsin             US  44.268543  -89.616508\n",
       "221        Wyoming             US  42.755966 -107.302490\n",
       "222            NaN        Vietnam  14.058300  108.277200\n",
       "\n",
       "[194 rows x 4 columns]"
      ]
     },
     "execution_count": 11,
     "metadata": {},
     "output_type": "execute_result"
    }
   ],
   "source": [
    "(all_df[[\"Province/State\", \"Country/Region\", \"Latitude\", \"Longitude\"]]\n",
    " .drop_duplicates()\n",
    " [(all_df[[\"Province/State\", \"Country/Region\", \"Latitude\", \"Longitude\"]]\n",
    "   .drop_duplicates()\n",
    "   .duplicated(subset=[\"Province/State\", \"Country/Region\"], keep=False))]\n",
    ")\n",
    "# Les 3 pays qui ont \"bougé\"."
   ]
  },
  {
   "cell_type": "markdown",
   "metadata": {},
   "source": [
    "## Construction d'une table unique"
   ]
  },
  {
   "cell_type": "code",
   "execution_count": 12,
   "metadata": {},
   "outputs": [],
   "source": [
    "data_catalog = {\n",
    "    'Last Update':[\"<M8[ns]\"],\n",
    "    \"Confirmed\":[\"float64\", \"int64\"],\n",
    "    \"Deaths\":[\"float64\", \"int64\"],\n",
    "    \"Recovered\":[\"float64\", \"int64\"],\n",
    "    \"Latitude\":[\"float64\"],\n",
    "    \"Longitude\":[\"float64\"]\n",
    "}"
   ]
  },
  {
   "cell_type": "code",
   "execution_count": 13,
   "metadata": {},
   "outputs": [],
   "source": [
    "df_list = []\n",
    "\n",
    "latlong_df = pd.read_csv(os.path.join(PROCESSED_DIR, \"lat_long_table.csv\"))\n",
    "\n",
    "# Lecture des fichiers récupérés et sélection de ceux qui ont une lat / long\n",
    "for file in glob.glob(os.path.join(RAWFILES_DIR, '*.csv')):\n",
    "    virus_df = pd.read_csv(file, sep=',', parse_dates=[\"Last Update\"])\n",
    "    if not('Latitude' in virus_df.columns and 'Longitude' in virus_df.columns):\n",
    "        virus_df = virus_df.merge(latlong_df, on=[\"Province/State\", \"Country/Region\"], how='left')\n",
    "    \n",
    "    # Checker le type des variables dans l'importation de chaque fichier.\n",
    "    for field, types in data_catalog.items():\n",
    "        assert virus_df[field].dtypes in types, f\"bad type for {field} in {file}\"\n",
    "\n",
    "    df_list.append(virus_df.assign(source=os.path.basename(file)))\n",
    " \n",
    "all_df = pd.concat(df_list)\n",
    "\n",
    "# Sauvegarde de la table totale\n",
    "all_df.to_csv(os.path.join(PROCESSED_DIR, 'all_data.csv'), index=False)"
   ]
  },
  {
   "cell_type": "code",
   "execution_count": null,
   "metadata": {},
   "outputs": [],
   "source": []
  },
  {
   "cell_type": "code",
   "execution_count": null,
   "metadata": {},
   "outputs": [],
   "source": []
  }
 ],
 "metadata": {
  "kernelspec": {
   "display_name": "Projet Corona (Python)",
   "language": "python",
   "name": "corona"
  },
  "language_info": {
   "codemirror_mode": {
    "name": "ipython",
    "version": 3
   },
   "file_extension": ".py",
   "mimetype": "text/x-python",
   "name": "python",
   "nbconvert_exporter": "python",
   "pygments_lexer": "ipython3",
   "version": "3.8.1"
  }
 },
 "nbformat": 4,
 "nbformat_minor": 4
}
